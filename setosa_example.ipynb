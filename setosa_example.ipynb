{
 "cells": [
  {
   "cell_type": "markdown",
   "id": "fc472060",
   "metadata": {},
   "source": [
    "## Playing with determinants and confusion matrices\n"
   ]
  },
  {
   "cell_type": "code",
   "execution_count": 1,
   "id": "88b1f440",
   "metadata": {},
   "outputs": [],
   "source": [
    "import pandas as pd\n",
    "import numpy as np"
   ]
  },
  {
   "cell_type": "code",
   "execution_count": 6,
   "id": "e5e9f4b0",
   "metadata": {},
   "outputs": [
    {
     "name": "stdout",
     "output_type": "stream",
     "text": [
      "-1.0\n"
     ]
    }
   ],
   "source": [
    "detty = np.array([[-2,-1,0], [1,0,-1], [0,1,1]])\n",
    "det = np.linalg.det(detty)\n",
    "\n",
    "print(det)"
   ]
  },
  {
   "cell_type": "code",
   "execution_count": 15,
   "id": "ae2e5b77",
   "metadata": {},
   "outputs": [
    {
     "name": "stdout",
     "output_type": "stream",
     "text": [
      "     0    1    2    3  Species\n",
      "0  5.1  3.5  1.4  0.2        0\n",
      "1  4.9  3.0  1.4  0.2        0\n",
      "2  4.7  3.2  1.3  0.2        0\n",
      "3  4.6  3.1  1.5  0.2        0\n",
      "4  5.0  3.6  1.4  0.2        0\n",
      "(150, 4)\n",
      "(150,)\n",
      "y_test is \n",
      " 114    2\n",
      "62     1\n",
      "33     0\n",
      "107    2\n",
      "7      0\n",
      "100    2\n",
      "40     0\n",
      "86     1\n",
      "76     1\n",
      "71     1\n",
      "134    2\n",
      "51     1\n",
      "73     1\n",
      "54     1\n",
      "63     1\n",
      "37     0\n",
      "78     1\n",
      "90     1\n",
      "45     0\n",
      "16     0\n",
      "121    2\n",
      "66     1\n",
      "24     0\n",
      "8      0\n",
      "126    2\n",
      "22     0\n",
      "44     0\n",
      "97     1\n",
      "93     1\n",
      "26     0\n",
      "137    2\n",
      "84     1\n",
      "27     0\n",
      "127    2\n",
      "132    2\n",
      "59     1\n",
      "18     0\n",
      "83     1\n",
      "61     1\n",
      "92     1\n",
      "112    2\n",
      "2      0\n",
      "141    2\n",
      "43     0\n",
      "10     0\n",
      "Name: Species, dtype: int64\n",
      "y_pred is \n",
      " [2 1 0 2 0 2 0 1 1 1 2 1 1 1 1 0 1 1 0 0 2 1 0 0 2 0 0 1 1 0 2 1 0 2 2 1 0\n",
      " 2 1 1 2 0 2 0 0]\n",
      "The confusion matix is \n",
      " [[16  0  0]\n",
      " [ 0 17  1]\n",
      " [ 0  0 11]]\n"
     ]
    },
    {
     "data": {
      "image/png": "[encoded data removed]",
      "text/plain": [
       "<Figure size 360x288 with 2 Axes>"
      ]
     },
     "metadata": {
      "needs_background": "light"
     },
     "output_type": "display_data"
    }
   ],
   "source": [
    "#importing packages\n",
    "\n",
    "import seaborn as sns\n",
    "import matplotlib.pyplot as plt\n",
    "from sklearn import datasets\n",
    "\n",
    "#Importing of dataset to dataframe. \n",
    "\n",
    "iris = datasets.load_iris()\n",
    "\n",
    "df = pd.DataFrame(iris.data)\n",
    "df[\"Species\"] = iris.target\n",
    "\n",
    "print(df.head())\n",
    "\n",
    "#Separating independant variable and dependent variable(\"Species\")\n",
    "X = df.drop(['Species'], axis=1)\n",
    "y = df['Species']\n",
    "# print(X.head())\n",
    "print(X.shape)\n",
    "# print(y.head())\n",
    "print(y.shape)\n",
    "\n",
    "from sklearn.model_selection import train_test_split\n",
    "X_train, X_test, y_train, y_test = train_test_split(X, y, test_size=0.3, random_state=0)\n",
    "\n",
    "from sklearn.svm import SVC\n",
    "from sklearn.metrics import confusion_matrix\n",
    "\n",
    "clf = SVC(kernel = 'linear').fit(X_train,y_train)\n",
    "clf.predict(X_train)\n",
    "\n",
    "#Testing the model using X_test and storing the output in y_pred\n",
    "y_pred = clf.predict(X_test)\n",
    "\n",
    "cm = confusion_matrix(y_test, y_pred)\n",
    "\n",
    "print(\"y_test is \\n\", y_test)\n",
    "print(\"y_pred is \\n\", y_pred)\n",
    "print(\"The confusion matix is \\n\", cm)\n",
    "cm_df = pd.DataFrame(cm,\n",
    "                     index = ['SETOSA','VERSICOLR','VIRGINICA'], \n",
    "                     columns = ['SETOSA','VERSICOLR','VIRGINICA'])\n",
    "\n",
    "plt.figure(figsize=(5,4))\n",
    "sns.heatmap(cm_df, annot=True)\n",
    "plt.title('Confusion Matrix')\n",
    "plt.ylabel('Actal Values')\n",
    "plt.xlabel('Predicted Values')\n",
    "plt.show()"
   ]
  },
  {
   "cell_type": "code",
   "execution_count": null,
   "id": "c0027373",
   "metadata": {},
   "outputs": [],
   "source": []
  }
 ],
 "metadata": {
  "kernelspec": {
   "display_name": "Python 3 (ipykernel)",
   "language": "python",
   "name": "python3"
  },
  "language_info": {
   "codemirror_mode": {
    "name": "ipython",
    "version": 3
   },
   "file_extension": ".py",
   "mimetype": "text/x-python",
   "name": "python",
   "nbconvert_exporter": "python",
   "pygments_lexer": "ipython3",
   "version": "3.7.7"
  }
 },
 "nbformat": 4,
 "nbformat_minor": 5
}
