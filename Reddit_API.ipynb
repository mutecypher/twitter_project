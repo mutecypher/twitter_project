{
 "cells": [
  {
   "cell_type": "markdown",
   "id": "subjective-hazard",
   "metadata": {},
   "source": [
    "## Reddit API"
   ]
  },
  {
   "cell_type": "code",
   "execution_count": 1,
   "id": "eleven-marketplace",
   "metadata": {},
   "outputs": [
    {
     "data": {
      "text/plain": [
       "<Response [200]>"
      ]
     },
     "execution_count": 1,
     "metadata": {},
     "output_type": "execute_result"
    }
   ],
   "source": [
    "import requests\n",
    "import pandas as pd\n",
    "from datetime import datetime\n",
    "\n",
    "# note that CLIENT_ID refers to 'personal use script' and SECRET_TOKEN to 'token'\n",
    "auth = requests.auth.HTTPBasicAuth('4wyjpBhummNL5A', 'lNjIMTVm4D3JZlvq-Y1RWx9sYg5m5A')\n",
    "\n",
    "# here we pass our login method (password), username, and password\n",
    "data = {'grant_type': 'password',\n",
    "        'username': 'mutecypher',\n",
    "        'password': 'podzi0-deztAb-xuzkur'}\n",
    "\n",
    "# setup our header info, which gives reddit a brief description of our app\n",
    "headers = {'User-Agent': 'MyBot/0.0.1'}\n",
    "\n",
    "# send our request for an OAuth token\n",
    "res = requests.post('https://www.reddit.com/api/v1/access_token',\n",
    "                    auth=auth, data=data, headers=headers)\n",
    "\n",
    "# convert response to JSON and pull access_token value\n",
    "TOKEN = res.json()['access_token']\n",
    "\n",
    "# add authorization to our headers dictionary\n",
    "headers = {**headers, **{'Authorization': f\"bearer {TOKEN}\"}}\n",
    "\n",
    "# while the token is valid (~2 hours) we just add headers=headers to our requests\n",
    "requests.get('https://oauth.reddit.com/api/v1/me', headers=headers)"
   ]
  },
  {
   "cell_type": "markdown",
   "id": "a4923388",
   "metadata": {},
   "source": [
    "## /investing reddit (1.8M users)\n"
   ]
  },
  {
   "cell_type": "code",
   "execution_count": 2,
   "id": "5f35767c",
   "metadata": {},
   "outputs": [],
   "source": [
    "# make a request for the trending posts in /r/Investing\n",
    "res = requests.get(\"https://oauth.reddit.com/r/investing/hot\",\n",
    "                   headers=headers)\n",
    "\n",
    "df_inv = pd.DataFrame()  # initialize dataframe\n",
    "\n",
    "# loop through each post retrieved from GET request\n",
    "for post in res.json()['data']['children']:\n",
    "    # append relevant data to dataframe\n",
    "    df_inv = df_inv.append({\n",
    "        'subreddit': post['data']['subreddit'],\n",
    "        'title': post['data']['title'],\n",
    "        'selftext': post['data']['selftext'],\n",
    "        'upvote_ratio': post['data']['upvote_ratio'],\n",
    "        'ups': post['data']['ups'],\n",
    "        'downs': post['data']['downs'],\n",
    "        'score': post['data']['score'],\n",
    "        'created_utc': datetime.fromtimestamp(post['data']['created_utc']).strftime('%Y-%m-%d'),\n",
    "    }, ignore_index=True)"
   ]
  },
  {
   "cell_type": "code",
   "execution_count": 3,
   "id": "5a58fee8",
   "metadata": {},
   "outputs": [
    {
     "name": "stdout",
     "output_type": "stream",
     "text": [
      "(27, 8)\n",
      "  created_utc  downs   score  \\\n",
      "0  2021-05-03    0.0    11.0   \n",
      "1  2021-05-03    0.0     9.0   \n",
      "2  2021-05-03    0.0   587.0   \n",
      "3  2021-05-02    0.0  1344.0   \n",
      "4  2021-05-03    0.0    12.0   \n",
      "\n",
      "                                            selftext  subreddit  \\\n",
      "0  Have a general question?  Want to offer some c...  investing   \n",
      "1  If your question is \"I have $10,000, what do I...  investing   \n",
      "2  I am feeling very confident that all of these ...  investing   \n",
      "3  edit: thought police have deemed this post as ...  investing   \n",
      "4  I have looked at $GEO for some time now and to...  investing   \n",
      "\n",
      "                                               title     ups  upvote_ratio  \n",
      "0  Daily General Discussion and spitballin thread...    11.0          0.84  \n",
      "1  Daily Advice Thread - All basic help or advice...     9.0          0.77  \n",
      "2                 Best way to profit from inflation?   587.0          0.92  \n",
      "3  Credit Suisse made just $17.5m in Archegos fee...  1344.0          0.98  \n",
      "4  What do you guys think about $GEO shares. Is i...    12.0          0.72  \n"
     ]
    }
   ],
   "source": [
    "print(df_inv.shape)\n",
    "print(df_inv.head())\n",
    "\n",
    "df_inv.to_csv('Reddit_investing.csv', mode = 'a', header = False)"
   ]
  },
  {
   "cell_type": "markdown",
   "id": "8eb4f1e6",
   "metadata": {},
   "source": [
    "## Alogorithmic Trading"
   ]
  },
  {
   "cell_type": "code",
   "execution_count": 4,
   "id": "a2ee9582",
   "metadata": {},
   "outputs": [],
   "source": [
    "# make a request for the trending posts in /r/Algorithmic trading\n",
    "res = requests.get(\"https://oauth.reddit.com/r/algotrading/top/\",\n",
    "                   headers=headers)\n",
    "\n",
    "df_algo = pd.DataFrame()  # initialize dataframe\n",
    "\n",
    "# loop through each post retrieved from GET request\n",
    "for post in res.json()['data']['children']:\n",
    "    # append relevant data to dataframe\n",
    "    df_algo = df_algo.append({\n",
    "        'subreddit': post['data']['subreddit'],\n",
    "        'title': post['data']['title'],\n",
    "        'selftext': post['data']['selftext'],\n",
    "        'upvote_ratio': post['data']['upvote_ratio'],\n",
    "        'ups': post['data']['ups'],\n",
    "        'downs': post['data']['downs'],\n",
    "        'score': post['data']['score'],\n",
    "        'created_utc': datetime.fromtimestamp(post['data']['created_utc']).strftime('%Y-%m-%dT')\n",
    "    }, ignore_index=True)"
   ]
  },
  {
   "cell_type": "code",
   "execution_count": 5,
   "id": "e6569323",
   "metadata": {},
   "outputs": [
    {
     "name": "stdout",
     "output_type": "stream",
     "text": [
      "(19, 8)\n",
      "   created_utc  downs  score  \\\n",
      "0  2021-05-02T    0.0   62.0   \n",
      "1  2021-05-03T    0.0   65.0   \n",
      "2  2021-05-02T    0.0   30.0   \n",
      "3  2021-05-03T    0.0   31.0   \n",
      "4  2021-05-03T    0.0   17.0   \n",
      "\n",
      "                                            selftext    subreddit  \\\n",
      "0  I like asking dumb questions out of my league,...  algotrading   \n",
      "1  I know the API is clunky and difficult to work...  algotrading   \n",
      "2  Does something like this exist? Looking at Pol...  algotrading   \n",
      "3  Examples: https://cryptostats.dev\\n\\nSubscribe...  algotrading   \n",
      "4   [https://www.cnbc.com/2021/05/03/verizon-sell...  algotrading   \n",
      "\n",
      "                                               title   ups  upvote_ratio  \n",
      "0       How, if at all, do you utilize VIX and VVIX?  62.0          0.90  \n",
      "1  Quality of Interactive Brokers' Historical &am...  65.0          0.94  \n",
      "2  API for historical and real time options chain...  30.0          0.90  \n",
      "3  Normalized Cryptocurrency Data for 25+ Exchang...  31.0          0.90  \n",
      "4  Apollo to Buy Yahoo, AOL From Verizon -- impli...  17.0          0.88  \n"
     ]
    }
   ],
   "source": [
    "print(df_algo.shape)\n",
    "print(df_algo.head())\n",
    "df_algo.to_csv('Reddit_algorithmic.csv', mode = 'a', header = False)"
   ]
  },
  {
   "cell_type": "markdown",
   "id": "d9ca7231",
   "metadata": {},
   "source": [
    "## Reddit/stocks"
   ]
  },
  {
   "cell_type": "code",
   "execution_count": 6,
   "id": "524ee0e1",
   "metadata": {},
   "outputs": [],
   "source": [
    "# make a request for the trending posts in /r/Stocks trading\n",
    "res = requests.get(\"https://oauth.reddit.com/r/stocks/top/\",\n",
    "                   headers=headers)\n",
    "\n",
    "df_stocks = pd.DataFrame()  # initialize dataframe\n",
    "\n",
    "# loop through each post retrieved from GET request\n",
    "for post in res.json()['data']['children']:\n",
    "    # append relevant data to dataframe\n",
    "    df_stocks = df_stocks.append({\n",
    "        'subreddit': post['data']['subreddit'],\n",
    "        'title': post['data']['title'],\n",
    "        'selftext': post['data']['selftext'],\n",
    "        'upvote_ratio': post['data']['upvote_ratio'],\n",
    "        'ups': post['data']['ups'],\n",
    "        'downs': post['data']['downs'],\n",
    "        'score': post['data']['score'],\n",
    "        'created_utc': datetime.fromtimestamp(post['data']['created_utc']).strftime('%Y-%m-%d')\n",
    "    }, ignore_index=True)"
   ]
  },
  {
   "cell_type": "code",
   "execution_count": 7,
   "id": "dddd541b",
   "metadata": {},
   "outputs": [
    {
     "name": "stdout",
     "output_type": "stream",
     "text": [
      "(25, 8)\n",
      "  created_utc  downs   score  \\\n",
      "0  2021-05-03    0.0  3130.0   \n",
      "1  2021-05-03    0.0   278.0   \n",
      "2  2021-05-03    0.0   160.0   \n",
      "3  2021-05-02    0.0    99.0   \n",
      "4  2021-05-03    0.0   186.0   \n",
      "\n",
      "                                            selftext subreddit  \\\n",
      "0  Elimination of Long-Term Debt Further Strength...    stocks   \n",
      "1  https://www.cnbc.com/2021/05/03/palantir-hires...    stocks   \n",
      "2  To say we had an interesting few weeks in the ...    stocks   \n",
      "3  I currently hold Ford (and a couple other pure...    stocks   \n",
      "4  Richard Carter sold his previous company to Dr...    stocks   \n",
      "\n",
      "                                               title     ups  upvote_ratio  \n",
      "0  GAMESTOP Completes Voluntary Early Redemption ...  3130.0          0.93  \n",
      "1  Palantir hires former IBM Watson Health exec a...   278.0          0.92  \n",
      "2  Uranium market update, one of the biggest cata...   160.0          0.93  \n",
      "3  TSMC just announced they expect to catch up wi...    99.0          0.95  \n",
      "4  $BRAG $BRGGF Announces Richard Carter as new CEO!   186.0          0.96  \n"
     ]
    }
   ],
   "source": [
    "print(df_stocks.shape)\n",
    "print(df_stocks.head())\n",
    "df_stocks.to_csv('Reddit_stocks.csv', mode = 'a', header = False)"
   ]
  },
  {
   "cell_type": "markdown",
   "id": "8200b3f3",
   "metadata": {},
   "source": [
    "## The famous WallStreetBets"
   ]
  },
  {
   "cell_type": "code",
   "execution_count": 8,
   "id": "eff48cb0",
   "metadata": {},
   "outputs": [],
   "source": [
    "# make a request for the trending posts in /r/Stocks trading\n",
    "res = requests.get(\"https://oauth.reddit.com/r/wallstreetbets/?t=year\",\n",
    "                   headers=headers)\n",
    "\n",
    "df_wsbets = pd.DataFrame()  # initialize dataframe\n",
    "\n",
    "# loop through each post retrieved from GET request\n",
    "for post in res.json()['data']['children']:\n",
    "    # append relevant data to dataframe\n",
    "    df_wsbets = df_wsbets.append({\n",
    "        'subreddit': post['data']['subreddit'],\n",
    "        'title': post['data']['title'],\n",
    "        'selftext': post['data']['selftext'],\n",
    "        'upvote_ratio': post['data']['upvote_ratio'],\n",
    "        'ups': post['data']['ups'],\n",
    "        'downs': post['data']['downs'],\n",
    "        'score': post['data']['score'],\n",
    "        'created_utc': datetime.fromtimestamp(post['data']['created_utc']).strftime('%Y-%m-%d')\n",
    "    }, ignore_index=True)\n",
    "   "
   ]
  },
  {
   "cell_type": "code",
   "execution_count": 9,
   "id": "90901c89",
   "metadata": {},
   "outputs": [
    {
     "name": "stdout",
     "output_type": "stream",
     "text": [
      "(26, 8)\n",
      "  created_utc  downs    score  \\\n",
      "0  2021-05-03    0.0     90.0   \n",
      "1  2021-05-03    0.0  16684.0   \n",
      "2  2021-05-03    0.0   1820.0   \n",
      "3  2021-05-03    0.0    993.0   \n",
      "4  2021-05-03    0.0    959.0   \n",
      "\n",
      "                                            selftext       subreddit  \\\n",
      "0  Your daily trading discussion thread. Please k...  wallstreetbets   \n",
      "1                                                     wallstreetbets   \n",
      "2                                                     wallstreetbets   \n",
      "3                                                     wallstreetbets   \n",
      "4  $NOK has the potential to reach $10+, here's w...  wallstreetbets   \n",
      "\n",
      "                                               title      ups  upvote_ratio  \n",
      "0         What Are Your Moves Tomorrow, May 04, 2021     90.0          0.84  \n",
      "1               The Lost SEC filing from Citadel LLC  16684.0          0.94  \n",
      "2  Heard it cost 200k in losses to join this grou...   1820.0          0.96  \n",
      "3                  $NOK $NOK I’m back from the dead!    993.0          0.87  \n",
      "4               🔥$NOK has potential to reach $10+🚀🚀🚀    959.0          0.81  \n"
     ]
    }
   ],
   "source": [
    "print(df_wsbets.shape)\n",
    "print(df_wsbets.head())\n",
    "df_wsbets.to_csv('Reddit_wsbets.csv', mode = 'a', header = False)"
   ]
  },
  {
   "cell_type": "markdown",
   "id": "a8307ec5",
   "metadata": {},
   "source": [
    "## Weed stocks"
   ]
  },
  {
   "cell_type": "code",
   "execution_count": 10,
   "id": "7e0b4302",
   "metadata": {},
   "outputs": [],
   "source": [
    "# make a request for the trending posts in /r/Stocks trading\n",
    "res = requests.get(\"https://oauth.reddit.com/r/weedstocks/\",\n",
    "                   headers=headers)\n",
    "\n",
    "df_weed = pd.DataFrame()  # initialize dataframe\n",
    "\n",
    "# loop through each post retrieved from GET request\n",
    "for post in res.json()['data']['children']:\n",
    "    # append relevant data to dataframe\n",
    "    df_weed = df_weed.append({\n",
    "        'subreddit': post['data']['subreddit'],\n",
    "        'title': post['data']['title'],\n",
    "        'selftext': post['data']['selftext'],\n",
    "        'upvote_ratio': post['data']['upvote_ratio'],\n",
    "        'ups': post['data']['ups'],\n",
    "        'downs': post['data']['downs'],\n",
    "        'score': post['data']['score'],\n",
    "        'created_utc': datetime.fromtimestamp(post['data']['created_utc']).strftime('%Y-%m-%d')\n",
    "    }, ignore_index=True)\n",
    "   "
   ]
  },
  {
   "cell_type": "code",
   "execution_count": 11,
   "id": "e2b8d205",
   "metadata": {},
   "outputs": [
    {
     "name": "stdout",
     "output_type": "stream",
     "text": [
      "(26, 8)\n",
      "  created_utc  downs  score  \\\n",
      "0  2021-05-03    0.0    5.0   \n",
      "1  2021-05-03    0.0  460.0   \n",
      "2  2021-05-03    0.0  122.0   \n",
      "3  2021-05-03    0.0   58.0   \n",
      "4  2021-05-03    0.0   64.0   \n",
      "\n",
      "                                            selftext   subreddit  \\\n",
      "0  Welcome to [r/weedstocks](https://www.reddit.c...  weedstocks   \n",
      "1                                                     weedstocks   \n",
      "2  # PART 2 – Understanding Washington: The Timel...  weedstocks   \n",
      "3                                                     weedstocks   \n",
      "4                                                     weedstocks   \n",
      "\n",
      "                                               title    ups  upvote_ratio  \n",
      "0       After Hours Discussion Thread - May 03, 2021    5.0          1.00  \n",
      "1  Tilray &amp; Aphria Announce Closing of Transa...  460.0          0.97  \n",
      "2  PART 2 – Understanding Washington: The Timelin...  122.0          0.99  \n",
      "3  Illinois Breaks Yet Another Marijuana Sales Re...   58.0          0.98  \n",
      "4  After Aphria Deal, the New Tilray Eyes Global ...   64.0          0.96  \n"
     ]
    }
   ],
   "source": [
    "print(df_weed.shape)\n",
    "print(df_weed.head())\n",
    "df_weed.to_csv('Reddit_weed.csv', mode = 'a', header = False)"
   ]
  },
  {
   "cell_type": "markdown",
   "id": "103f3894",
   "metadata": {},
   "source": [
    "## Reddit Stock Market"
   ]
  },
  {
   "cell_type": "code",
   "execution_count": 12,
   "id": "38ef7618",
   "metadata": {},
   "outputs": [],
   "source": [
    "# make a request for the trending posts in /r/Stocks trading\n",
    "res = requests.get(\"https://oauth.reddit.com/r/StockMarket/\",\n",
    "                   headers=headers)\n",
    "\n",
    "df_s_market = pd.DataFrame()  # initialize dataframe\n",
    "\n",
    "# loop through each post retrieved from GET request\n",
    "for post in res.json()['data']['children']:\n",
    "    # append relevant data to dataframe\n",
    "    df_s_market = df_s_market.append({\n",
    "        'subreddit': post['data']['subreddit'],\n",
    "        'title': post['data']['title'],\n",
    "        'selftext': post['data']['selftext'],\n",
    "        'upvote_ratio': post['data']['upvote_ratio'],\n",
    "        'ups': post['data']['ups'],\n",
    "        'downs': post['data']['downs'],\n",
    "        'score': post['data']['score'],\n",
    "        'created_utc': datetime.fromtimestamp(post['data']['created_utc']).strftime('%Y-%m-%d')\n",
    "    }, ignore_index=True)\n",
    " "
   ]
  },
  {
   "cell_type": "code",
   "execution_count": 13,
   "id": "acc39862",
   "metadata": {},
   "outputs": [
    {
     "name": "stdout",
     "output_type": "stream",
     "text": [
      "(25, 8)\n",
      "  created_utc  downs   score  \\\n",
      "0  2021-05-03    0.0   462.0   \n",
      "1  2021-05-03    0.0   521.0   \n",
      "2  2021-05-02    0.0  2321.0   \n",
      "3  2021-05-03    0.0    68.0   \n",
      "4  2021-05-02    0.0   375.0   \n",
      "\n",
      "                                            selftext    subreddit  \\\n",
      "0                                                     StockMarket   \n",
      "1                                                     StockMarket   \n",
      "2                                                     StockMarket   \n",
      "3  **Unknown AR/VR**\\n\\nEveryone knows that compa...  StockMarket   \n",
      "4  When i first come to america, my english cause...  StockMarket   \n",
      "\n",
      "                                               title     ups  upvote_ratio  \n",
      "0                       Sometimes it do be like that   462.0          0.97  \n",
      "1          Beginner's guide to Japanese Candlesticks   521.0          0.95  \n",
      "2   Alibaba raised staff salaries instead of leaders  2321.0          0.97  \n",
      "3  $KOPN DD: imo, the REAL AR/VR winner (e.g. vs....    68.0          0.86  \n",
      "4  Strongest electronic payment stock in all of R...   375.0          0.92  \n"
     ]
    }
   ],
   "source": [
    "print(df_s_market.shape)\n",
    "print(df_s_market.head())\n",
    "df_s_market.to_csv('Reddit_stock_market.csv', mode = 'a', header = False)"
   ]
  }
 ],
 "metadata": {
  "kernelspec": {
   "display_name": "Python 3",
   "language": "python",
   "name": "python3"
  },
  "language_info": {
   "codemirror_mode": {
    "name": "ipython",
    "version": 3
   },
   "file_extension": ".py",
   "mimetype": "text/x-python",
   "name": "python",
   "nbconvert_exporter": "python",
   "pygments_lexer": "ipython3",
   "version": "3.7.7"
  }
 },
 "nbformat": 4,
 "nbformat_minor": 5
}
