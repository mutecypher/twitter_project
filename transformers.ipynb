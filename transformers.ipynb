{
 "cells": [
  {
   "cell_type": "code",
   "execution_count": 1,
   "id": "529e5cb9",
   "metadata": {},
   "outputs": [
    {
     "data": {
      "application/vnd.jupyter.widget-view+json": {
       "model_id": "c5666b1de3424854acb6b0c6960c546b",
       "version_major": 2,
       "version_minor": 0
      },
      "text/plain": [
       "Downloading:   0%|          | 0.00/268M [00:00<?, ?B/s]"
      ]
     },
     "metadata": {},
     "output_type": "display_data"
    }
   ],
   "source": [
    "import numpy as np\n",
    "import pandas as pd\n",
    "from transformers import pipeline\n",
    "classifier = pipeline('sentiment-analysis')"
   ]
  },
  {
   "cell_type": "code",
   "execution_count": 8,
   "id": "f73c8aec",
   "metadata": {},
   "outputs": [
    {
     "name": "stdout",
     "output_type": "stream",
     "text": [
      "label: POSITIVE, with score: 0.9995\n",
      "label: POSITIVE, with score: 0.9997\n",
      "label: NEGATIVE, with score: 0.5309\n",
      "label: NEGATIVE, with score: 0.9996\n",
      "label: NEGATIVE, with score: 0.9995\n",
      "label: NEGATIVE, with score: 0.9998\n",
      "label: POSITIVE, with score: 0.9992\n",
      "label: NEGATIVE, with score: 0.9977\n",
      "label: POSITIVE, with score: 0.9863\n",
      "label: POSITIVE, with score: 0.9952\n",
      "label: POSITIVE, with score: 0.9999\n"
     ]
    }
   ],
   "source": [
    "results = classifier([\"We are almost happy to show you the 🤗 Transformers library.\", \"meh is the best I could muster.\", \"We hope you don't hate it.\",\n",
    "                      \"This is not a good movie, in fact it is a great movie!\", \"It's not the only thing that could happen.\",\n",
    "                      \"AMZN is not a good buy at present.\", \"I am very excited about Dilbert getting banned.\",\n",
    "                      \"I am unenthusiastic about Title.\", \" She loved Matt LeBlanc and loved to hate gerbils.\",\n",
    "                      \"I was not at all negative about the movie Godfather III.\", \"I was enthusiastically positive on the whole endeavor.\"])\n",
    "\n",
    "for result in results:\n",
    "    print(f\"label: {result['label']}, with score: {round(result['score'], 4)}\")"
   ]
  },
  {
   "cell_type": "code",
   "execution_count": null,
   "id": "d673aec4",
   "metadata": {},
   "outputs": [],
   "source": []
  }
 ],
 "metadata": {
  "kernelspec": {
   "display_name": "Python 3",
   "language": "python",
   "name": "python3"
  },
  "language_info": {
   "codemirror_mode": {
    "name": "ipython",
    "version": 3
   },
   "file_extension": ".py",
   "mimetype": "text/x-python",
   "name": "python",
   "nbconvert_exporter": "python",
   "pygments_lexer": "ipython3",
   "version": "3.7.7"
  }
 },
 "nbformat": 4,
 "nbformat_minor": 5
}
