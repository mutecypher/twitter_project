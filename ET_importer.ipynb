{
 "cells": [
  {
   "cell_type": "code",
   "execution_count": null,
   "id": "d415c61c",
   "metadata": {},
   "outputs": [],
   "source": []
  },
  {
   "cell_type": "code",
   "execution_count": 4,
   "id": "61fdd33c",
   "metadata": {},
   "outputs": [
    {
     "name": "stdout",
     "output_type": "stream",
     "text": [
      "{'SHV', 'IFAS', 'RXI', 'IWN', 'IOO', 'EWS', 'IVE', 'IWC', 'AAXJ', 'EFA', 'IXG', 'TLT', 'IWS', 'IXN', 'EFG', 'EWG', 'EWW', 'LQD', 'EWT', 'IYZ', 'EWC', 'IJT', 'IJK', 'IJS', 'IWD', 'IWB', 'SCZ', 'EXI', 'IGE', 'IESM', 'MUB', 'CSJ', 'EPHE', 'IEIS', 'IVW', 'MBB', 'ITB', 'EMB', 'IELG', 'EWP', 'IGV', 'JXI', 'EEM', 'IXP', 'FLOT', 'IDU', 'EWL', 'MXI', 'IYH', 'IEV', 'NEAR', 'IAU', 'DVY', 'EWA', 'HYG', 'IXJ', 'IBB', 'SLV', 'EWM', 'EWH', 'EWZ', 'IYM', 'IWP', 'EPP', 'SHY', 'EWJ', 'EWI', 'IEIL', 'ACWX', 'IJJ', 'IEF', 'IWF', 'IYW', 'IWR', 'FXI', 'IFEU', 'ICF', 'IVV', 'ILF', 'IYJ', 'IWO', 'EWU', 'IEI', 'CIU', 'EWD', 'IWM', 'EIS', 'EFV', 'BKF', 'AGG', 'EWY', 'GVI', 'IDV', 'REM', 'EZU', 'IYE', 'IYK', 'IJR', 'IXC', 'TIP', 'IYF', 'IYC', 'KXI', 'GSG', 'IYR', 'OEF', 'ICSH', 'IJH'}\n",
      "Number or tickers pulled: 108\n"
     ]
    },
    {
     "ename": "RemoteDataError",
     "evalue": "No data fetched using 'YahooDailyReader'",
     "output_type": "error",
     "traceback": [
      "\u001b[0;31m---------------------------------------------------------------------------\u001b[0m",
      "\u001b[0;31mRemoteDataError\u001b[0m                           Traceback (most recent call last)",
      "\u001b[0;32m<ipython-input-4-8f290455a304>\u001b[0m in \u001b[0;36m<module>\u001b[0;34m\u001b[0m\n\u001b[1;32m     27\u001b[0m \u001b[0;32mimport\u001b[0m \u001b[0mnumpy\u001b[0m \u001b[0;32mas\u001b[0m \u001b[0mnp\u001b[0m\u001b[0;34m\u001b[0m\u001b[0;34m\u001b[0m\u001b[0m\n\u001b[1;32m     28\u001b[0m \u001b[0;34m\u001b[0m\u001b[0m\n\u001b[0;32m---> 29\u001b[0;31m \u001b[0mdf\u001b[0m \u001b[0;34m=\u001b[0m \u001b[0mdata\u001b[0m\u001b[0;34m.\u001b[0m\u001b[0mDataReader\u001b[0m\u001b[0;34m(\u001b[0m\u001b[0mticklist\u001b[0m\u001b[0;34m[\u001b[0m\u001b[0;36m0\u001b[0m\u001b[0;34m:\u001b[0m\u001b[0;34m]\u001b[0m\u001b[0;34m,\u001b[0m \u001b[0;34m'yahoo'\u001b[0m\u001b[0;34m,\u001b[0m \u001b[0;34m'2015-01-01'\u001b[0m\u001b[0;34m,\u001b[0m \u001b[0;34m'2021-07-01'\u001b[0m\u001b[0;34m)\u001b[0m \u001b[0;31m# this will read the data from Yahoo Finance\u001b[0m\u001b[0;34m\u001b[0m\u001b[0;34m\u001b[0m\u001b[0m\n\u001b[0m\u001b[1;32m     30\u001b[0m \u001b[0madj\u001b[0m \u001b[0;34m=\u001b[0m \u001b[0mdf\u001b[0m\u001b[0;34m[\u001b[0m\u001b[0;34m'Adj Close'\u001b[0m\u001b[0;34m]\u001b[0m \u001b[0;31m# we only intrested in the adjusted close price - to acount for dividends and intrest payments from bonds.\u001b[0m\u001b[0;34m\u001b[0m\u001b[0;34m\u001b[0m\u001b[0m\n\u001b[1;32m     31\u001b[0m \u001b[0madj\u001b[0m \u001b[0;34m=\u001b[0m \u001b[0madj\u001b[0m\u001b[0;34m.\u001b[0m\u001b[0mreindex\u001b[0m\u001b[0;34m(\u001b[0m\u001b[0mpd\u001b[0m\u001b[0;34m.\u001b[0m\u001b[0mdate_range\u001b[0m\u001b[0;34m(\u001b[0m\u001b[0mstart\u001b[0m\u001b[0;34m=\u001b[0m\u001b[0;34m'2015-01-01'\u001b[0m\u001b[0;34m,\u001b[0m\u001b[0mend\u001b[0m\u001b[0;34m=\u001b[0m\u001b[0;34m'2021-07-01'\u001b[0m\u001b[0;34m,\u001b[0m\u001b[0mtime_interval\u001b[0m\u001b[0;34m=\u001b[0m\u001b[0;34m'daily'\u001b[0m\u001b[0;34m)\u001b[0m\u001b[0;34m)\u001b[0m\u001b[0;34m.\u001b[0m\u001b[0mdropna\u001b[0m\u001b[0;34m(\u001b[0m\u001b[0maxis\u001b[0m\u001b[0;34m=\u001b[0m\u001b[0;36m1\u001b[0m\u001b[0;34m,\u001b[0m \u001b[0mhow\u001b[0m\u001b[0;34m=\u001b[0m\u001b[0;34m'all'\u001b[0m\u001b[0;34m)\u001b[0m \u001b[0;31m#get a data point ones every month\u001b[0m\u001b[0;34m\u001b[0m\u001b[0;34m\u001b[0m\u001b[0m\n",
      "\u001b[0;32m~/anaconda3/lib/python3.7/site-packages/pandas/util/_decorators.py\u001b[0m in \u001b[0;36mwrapper\u001b[0;34m(*args, **kwargs)\u001b[0m\n\u001b[1;32m    197\u001b[0m                 \u001b[0;32melse\u001b[0m\u001b[0;34m:\u001b[0m\u001b[0;34m\u001b[0m\u001b[0;34m\u001b[0m\u001b[0m\n\u001b[1;32m    198\u001b[0m                     \u001b[0mkwargs\u001b[0m\u001b[0;34m[\u001b[0m\u001b[0mnew_arg_name\u001b[0m\u001b[0;34m]\u001b[0m \u001b[0;34m=\u001b[0m \u001b[0mnew_arg_value\u001b[0m\u001b[0;34m\u001b[0m\u001b[0;34m\u001b[0m\u001b[0m\n\u001b[0;32m--> 199\u001b[0;31m             \u001b[0;32mreturn\u001b[0m \u001b[0mfunc\u001b[0m\u001b[0;34m(\u001b[0m\u001b[0;34m*\u001b[0m\u001b[0margs\u001b[0m\u001b[0;34m,\u001b[0m \u001b[0;34m**\u001b[0m\u001b[0mkwargs\u001b[0m\u001b[0;34m)\u001b[0m\u001b[0;34m\u001b[0m\u001b[0;34m\u001b[0m\u001b[0m\n\u001b[0m\u001b[1;32m    200\u001b[0m \u001b[0;34m\u001b[0m\u001b[0m\n\u001b[1;32m    201\u001b[0m         \u001b[0;32mreturn\u001b[0m \u001b[0mcast\u001b[0m\u001b[0;34m(\u001b[0m\u001b[0mF\u001b[0m\u001b[0;34m,\u001b[0m \u001b[0mwrapper\u001b[0m\u001b[0;34m)\u001b[0m\u001b[0;34m\u001b[0m\u001b[0;34m\u001b[0m\u001b[0m\n",
      "\u001b[0;32m~/anaconda3/lib/python3.7/site-packages/pandas_datareader/data.py\u001b[0m in \u001b[0;36mDataReader\u001b[0;34m(name, data_source, start, end, retry_count, pause, session, api_key)\u001b[0m\n\u001b[1;32m    382\u001b[0m             \u001b[0mretry_count\u001b[0m\u001b[0;34m=\u001b[0m\u001b[0mretry_count\u001b[0m\u001b[0;34m,\u001b[0m\u001b[0;34m\u001b[0m\u001b[0;34m\u001b[0m\u001b[0m\n\u001b[1;32m    383\u001b[0m             \u001b[0mpause\u001b[0m\u001b[0;34m=\u001b[0m\u001b[0mpause\u001b[0m\u001b[0;34m,\u001b[0m\u001b[0;34m\u001b[0m\u001b[0;34m\u001b[0m\u001b[0m\n\u001b[0;32m--> 384\u001b[0;31m             \u001b[0msession\u001b[0m\u001b[0;34m=\u001b[0m\u001b[0msession\u001b[0m\u001b[0;34m,\u001b[0m\u001b[0;34m\u001b[0m\u001b[0;34m\u001b[0m\u001b[0m\n\u001b[0m\u001b[1;32m    385\u001b[0m         ).read()\n\u001b[1;32m    386\u001b[0m \u001b[0;34m\u001b[0m\u001b[0m\n",
      "\u001b[0;32m~/anaconda3/lib/python3.7/site-packages/pandas_datareader/base.py\u001b[0m in \u001b[0;36mread\u001b[0;34m(self)\u001b[0m\n\u001b[1;32m    256\u001b[0m             \u001b[0mdf\u001b[0m \u001b[0;34m=\u001b[0m \u001b[0mself\u001b[0m\u001b[0;34m.\u001b[0m\u001b[0m_dl_mult_symbols\u001b[0m\u001b[0;34m(\u001b[0m\u001b[0mself\u001b[0m\u001b[0;34m.\u001b[0m\u001b[0msymbols\u001b[0m\u001b[0;34m.\u001b[0m\u001b[0mindex\u001b[0m\u001b[0;34m)\u001b[0m\u001b[0;34m\u001b[0m\u001b[0;34m\u001b[0m\u001b[0m\n\u001b[1;32m    257\u001b[0m         \u001b[0;32melse\u001b[0m\u001b[0;34m:\u001b[0m\u001b[0;34m\u001b[0m\u001b[0;34m\u001b[0m\u001b[0m\n\u001b[0;32m--> 258\u001b[0;31m             \u001b[0mdf\u001b[0m \u001b[0;34m=\u001b[0m \u001b[0mself\u001b[0m\u001b[0;34m.\u001b[0m\u001b[0m_dl_mult_symbols\u001b[0m\u001b[0;34m(\u001b[0m\u001b[0mself\u001b[0m\u001b[0;34m.\u001b[0m\u001b[0msymbols\u001b[0m\u001b[0;34m)\u001b[0m\u001b[0;34m\u001b[0m\u001b[0;34m\u001b[0m\u001b[0m\n\u001b[0m\u001b[1;32m    259\u001b[0m         \u001b[0;32mreturn\u001b[0m \u001b[0mdf\u001b[0m\u001b[0;34m\u001b[0m\u001b[0;34m\u001b[0m\u001b[0m\n\u001b[1;32m    260\u001b[0m \u001b[0;34m\u001b[0m\u001b[0m\n",
      "\u001b[0;32m~/anaconda3/lib/python3.7/site-packages/pandas_datareader/base.py\u001b[0m in \u001b[0;36m_dl_mult_symbols\u001b[0;34m(self, symbols)\u001b[0m\n\u001b[1;32m    275\u001b[0m         \u001b[0;32mif\u001b[0m \u001b[0mlen\u001b[0m\u001b[0;34m(\u001b[0m\u001b[0mpassed\u001b[0m\u001b[0;34m)\u001b[0m \u001b[0;34m==\u001b[0m \u001b[0;36m0\u001b[0m\u001b[0;34m:\u001b[0m\u001b[0;34m\u001b[0m\u001b[0;34m\u001b[0m\u001b[0m\n\u001b[1;32m    276\u001b[0m             \u001b[0mmsg\u001b[0m \u001b[0;34m=\u001b[0m \u001b[0;34m\"No data fetched using {0!r}\"\u001b[0m\u001b[0;34m\u001b[0m\u001b[0;34m\u001b[0m\u001b[0m\n\u001b[0;32m--> 277\u001b[0;31m             \u001b[0;32mraise\u001b[0m \u001b[0mRemoteDataError\u001b[0m\u001b[0;34m(\u001b[0m\u001b[0mmsg\u001b[0m\u001b[0;34m.\u001b[0m\u001b[0mformat\u001b[0m\u001b[0;34m(\u001b[0m\u001b[0mself\u001b[0m\u001b[0;34m.\u001b[0m\u001b[0m__class__\u001b[0m\u001b[0;34m.\u001b[0m\u001b[0m__name__\u001b[0m\u001b[0;34m)\u001b[0m\u001b[0;34m)\u001b[0m\u001b[0;34m\u001b[0m\u001b[0;34m\u001b[0m\u001b[0m\n\u001b[0m\u001b[1;32m    278\u001b[0m         \u001b[0;32mtry\u001b[0m\u001b[0;34m:\u001b[0m\u001b[0;34m\u001b[0m\u001b[0;34m\u001b[0m\u001b[0m\n\u001b[1;32m    279\u001b[0m             \u001b[0;32mif\u001b[0m \u001b[0mlen\u001b[0m\u001b[0;34m(\u001b[0m\u001b[0mstocks\u001b[0m\u001b[0;34m)\u001b[0m \u001b[0;34m>\u001b[0m \u001b[0;36m0\u001b[0m \u001b[0;32mand\u001b[0m \u001b[0mlen\u001b[0m\u001b[0;34m(\u001b[0m\u001b[0mfailed\u001b[0m\u001b[0;34m)\u001b[0m \u001b[0;34m>\u001b[0m \u001b[0;36m0\u001b[0m \u001b[0;32mand\u001b[0m \u001b[0mlen\u001b[0m\u001b[0;34m(\u001b[0m\u001b[0mpassed\u001b[0m\u001b[0;34m)\u001b[0m \u001b[0;34m>\u001b[0m \u001b[0;36m0\u001b[0m\u001b[0;34m:\u001b[0m\u001b[0;34m\u001b[0m\u001b[0;34m\u001b[0m\u001b[0m\n",
      "\u001b[0;31mRemoteDataError\u001b[0m: No data fetched using 'YahooDailyReader'"
     ]
    }
   ],
   "source": [
    "\n",
    "## Resourses:\n",
    "#    * https://www.youtube.com/watch?v=WRGk8PBBf2o\n",
    "#    * https://en.wikipedia.org/wiki/List_of_American_exchange-traded_funds#Stock_ETFs\n",
    "\n",
    "import requests\n",
    "from bs4 import BeautifulSoup\n",
    "\n",
    "url='https://en.wikipedia.org/wiki/List_of_American_exchange-traded_funds#Index-tracking_ETFs'\n",
    "response = requests.get(url=url)\n",
    "soup = BeautifulSoup(response.content).find(id=\"bodyContent\")\n",
    "ticklist=soup.find_all(\"li\")\n",
    "tick_txt_list=set() # we use set to keep the list unique \n",
    "for tick in ticklist:\n",
    "  textstring=tick.text\n",
    "  if \"iShares\" in textstring and \"|\" in textstring:\n",
    "    tick_string = textstring[(textstring.find(\"|\")):textstring.find(\")\")]\n",
    "    tick_txt_list.add(tick_string[1:])\n",
    "\n",
    "print(tick_txt_list)\n",
    "print(\"Number or tickers pulled: \"+str(len(tick_txt_list)))\n",
    "ticklist=list(tick_txt_list)\n",
    "\n",
    "# Now we can read the data from Yahoo\n",
    "from pandas_datareader import data\n",
    "import matplotlib.pyplot as plt\n",
    "import pandas as pd\n",
    "import numpy as np\n",
    "\n",
    "df = data.DataReader(ticklist[0:], 'yahoo', '2015-01-01', '2021-07-01') # this will read the data from Yahoo Finance\n",
    "adj = df['Adj Close'] # we only intrested in the adjusted close price - to acount for dividends and intrest payments from bonds.\n",
    "adj = adj.reindex(pd.date_range(start='2015-01-01',end='2021-07-01',time_interval='daily')).dropna(axis=1, how='all') #get a data point ones every month\n",
    "adj = adj.loc[:,adj.iloc[-1,:].notna()].dropna(axis=0) # drop columes that dont have data\n",
    "norm=adj.apply(lambda x: x/x[0], axis=0) # normlize all columes\n",
    "\n",
    "# Lets plot what we pulled\n",
    "plt.rcParams['figure.figsize'] = (15, 8)\n",
    "sort=norm.T.sort_values(norm.index[-1], ascending=False).T\n",
    "colormap = plt.cm.gist_ncar\n",
    "sort.plot(color=plt.cm.gist_rainbow(np.linspace(0, 1,len(sort.T))))\n",
    "plt.legend(ncol=10)\n",
    "\n",
    "# Bar plot of return\n",
    "endreturn_df=sort.iloc[-1,:]\n",
    "ax = endreturn_df.plot.bar(color=plt.cm.gist_rainbow(np.linspace(0, 1,len(sort.T))))\n",
    "\n",
    "# Now for calculating volatility  \n",
    "month_ret=sort.pct_change()\n",
    "etf_std=month_ret.std()\n",
    "month_mean=month_ret.mean()\n",
    "month_sharpe=(month_mean-0.01/12)/etf_std\n",
    "outdata_df=df = pd.concat([month_mean, etf_std, month_sharpe], axis=1)\n",
    "outdata_df.columns=['Mean','STD','Sharpe']\n",
    "outdata_df=outdata_df.sort_values(by=['Sharpe'],ascending=False)\n",
    "\n",
    "# plot bars of Sharpe\n",
    "ax = outdata_df['Sharpe'].plot.bar(color=plt.cm.gist_rainbow(np.linspace(0, 1,len(outdata_df))))\n",
    "\n",
    "# Corrolation matrix\n",
    "pos_sharpe=outdata_df.index[(outdata_df['Sharpe'] > 0.1) & (outdata_df['Mean'] > 0.003)].tolist()\n",
    "onlypossharpe=month_ret[month_ret.columns & pos_sharpe]\n",
    "corrmat=onlypossharpe.corr()\n",
    "\n",
    "# Plotting the corr-mat as a heat map\n",
    "import seaborn as sns\n",
    "sns.set_context(context='paper',font_scale=1)       \n",
    "plt.figure(figsize=(14, 10))                                           \n",
    "sns.heatmap(corrmat,square=True,xticklabels=1,yticklabels=1)\n"
   ]
  },
  {
   "cell_type": "code",
   "execution_count": 5,
   "id": "2261235f",
   "metadata": {},
   "outputs": [
    {
     "name": "stdout",
     "output_type": "stream",
     "text": [
      "the date and time is  2021-07-05 15:59:52.849981\n"
     ]
    }
   ],
   "source": [
    "import datetime\n",
    "\n",
    "time_now = datetime.datetime.now()\n",
    "\n",
    "\n",
    "\n",
    "print(\"the date and time is \",time_now)"
   ]
  },
  {
   "cell_type": "code",
   "execution_count": null,
   "id": "449d2bd3",
   "metadata": {},
   "outputs": [],
   "source": []
  }
 ],
 "metadata": {
  "kernelspec": {
   "display_name": "Python 3",
   "language": "python",
   "name": "python3"
  },
  "language_info": {
   "codemirror_mode": {
    "name": "ipython",
    "version": 3
   },
   "file_extension": ".py",
   "mimetype": "text/x-python",
   "name": "python",
   "nbconvert_exporter": "python",
   "pygments_lexer": "ipython3",
   "version": "3.7.7"
  }
 },
 "nbformat": 4,
 "nbformat_minor": 5
}
