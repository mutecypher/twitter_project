{
 "cells": [
  {
   "cell_type": "code",
   "execution_count": 3,
   "id": "a6d11239",
   "metadata": {},
   "outputs": [
    {
     "ename": "ImportError",
     "evalue": "dlopen(/Users/mutecypher/anaconda3/lib/python3.7/site-packages/dearpygui/_dearpygui.so, 2): Library not loaded: /usr/local/opt/libpng/lib/libpng16.16.dylib\n  Referenced from: /Users/mutecypher/anaconda3/lib/python3.7/site-packages/dearpygui/_dearpygui.so\n  Reason: image not found",
     "output_type": "error",
     "traceback": [
      "\u001b[0;31m---------------------------------------------------------------------------\u001b[0m",
      "\u001b[0;31mImportError\u001b[0m                               Traceback (most recent call last)",
      "\u001b[0;32m/var/folders/3q/y2fjlm8n4752m4cv89kq3r0h0000gn/T/ipykernel_30741/1451526612.py\u001b[0m in \u001b[0;36m<module>\u001b[0;34m\u001b[0m\n\u001b[0;32m----> 1\u001b[0;31m \u001b[0;32mimport\u001b[0m \u001b[0mdearpygui\u001b[0m\u001b[0;34m.\u001b[0m\u001b[0mdearpygui\u001b[0m \u001b[0;32mas\u001b[0m \u001b[0mdpg\u001b[0m\u001b[0;34m\u001b[0m\u001b[0;34m\u001b[0m\u001b[0m\n\u001b[0m\u001b[1;32m      2\u001b[0m \u001b[0;34m\u001b[0m\u001b[0m\n\u001b[1;32m      3\u001b[0m \u001b[0;32mfrom\u001b[0m \u001b[0mdearpygui\u001b[0m\u001b[0;34m.\u001b[0m\u001b[0mdemo\u001b[0m \u001b[0;32mimport\u001b[0m \u001b[0mshow_demo\u001b[0m\u001b[0;34m\u001b[0m\u001b[0;34m\u001b[0m\u001b[0m\n\u001b[1;32m      4\u001b[0m \u001b[0;34m\u001b[0m\u001b[0m\n\u001b[1;32m      5\u001b[0m \u001b[0;32mdef\u001b[0m \u001b[0msave_callback\u001b[0m\u001b[0;34m(\u001b[0m\u001b[0;34m)\u001b[0m\u001b[0;34m:\u001b[0m\u001b[0;34m\u001b[0m\u001b[0;34m\u001b[0m\u001b[0m\n",
      "\u001b[0;32m~/anaconda3/lib/python3.7/site-packages/dearpygui/dearpygui.py\u001b[0m in \u001b[0;36m<module>\u001b[0;34m\u001b[0m\n\u001b[1;32m     20\u001b[0m \u001b[0;32mimport\u001b[0m \u001b[0mfunctools\u001b[0m\u001b[0;34m\u001b[0m\u001b[0;34m\u001b[0m\u001b[0m\n\u001b[1;32m     21\u001b[0m \u001b[0;32mimport\u001b[0m \u001b[0minspect\u001b[0m\u001b[0;34m\u001b[0m\u001b[0;34m\u001b[0m\u001b[0m\n\u001b[0;32m---> 22\u001b[0;31m \u001b[0;32mimport\u001b[0m \u001b[0mdearpygui\u001b[0m\u001b[0;34m.\u001b[0m\u001b[0m_dearpygui\u001b[0m \u001b[0;32mas\u001b[0m \u001b[0minternal_dpg\u001b[0m\u001b[0;34m\u001b[0m\u001b[0;34m\u001b[0m\u001b[0m\n\u001b[0m\u001b[1;32m     23\u001b[0m \u001b[0;32mfrom\u001b[0m \u001b[0mdearpygui\u001b[0m\u001b[0;34m.\u001b[0m\u001b[0m_dearpygui\u001b[0m \u001b[0;32mimport\u001b[0m \u001b[0mmvBuffer\u001b[0m\u001b[0;34m\u001b[0m\u001b[0;34m\u001b[0m\u001b[0m\n\u001b[1;32m     24\u001b[0m \u001b[0;34m\u001b[0m\u001b[0m\n",
      "\u001b[0;31mImportError\u001b[0m: dlopen(/Users/mutecypher/anaconda3/lib/python3.7/site-packages/dearpygui/_dearpygui.so, 2): Library not loaded: /usr/local/opt/libpng/lib/libpng16.16.dylib\n  Referenced from: /Users/mutecypher/anaconda3/lib/python3.7/site-packages/dearpygui/_dearpygui.so\n  Reason: image not found"
     ]
    }
   ],
   "source": [
    "import dearpygui.dearpygui as dpg\n",
    "\n",
    "from dearpygui.demo import show_demo\n",
    "\n",
    "def save_callback():\n",
    "\n",
    "    print(\"Save Clicked\")\n",
    "\n",
    "\n",
    "dpg.create_context()\n",
    "\n",
    "dpg.create_viewport()\n",
    "\n",
    "dpg.setup_dearpygui()\n",
    "\n",
    "\n",
    "\n",
    "with dpg.window(label=\"Example Window\"):\n",
    "\n",
    "    dpg.add_text(\"Hello world\")\n",
    "\n",
    "    dpg.add_button(label=\"Save\", callback=save_callback)\n",
    "\n",
    "    dpg.add_input_text(label=\"string\")\n",
    "\n",
    "    dpg.add_slider_float(label=\"float\")\n",
    "\n",
    "\n",
    "\n",
    "dpg.show_viewport()\n",
    "\n",
    "dpg.start_dearpygui()\n",
    "\n",
    "dpg.destroy_context()"
   ]
  },
  {
   "cell_type": "code",
   "execution_count": null,
   "id": "78123d23",
   "metadata": {},
   "outputs": [],
   "source": []
  }
 ],
 "metadata": {
  "kernelspec": {
   "display_name": "Python 3 (ipykernel)",
   "language": "python",
   "name": "python3"
  },
  "language_info": {
   "codemirror_mode": {
    "name": "ipython",
    "version": 3
   },
   "file_extension": ".py",
   "mimetype": "text/x-python",
   "name": "python",
   "nbconvert_exporter": "python",
   "pygments_lexer": "ipython3",
   "version": "3.7.7"
  }
 },
 "nbformat": 4,
 "nbformat_minor": 5
}
