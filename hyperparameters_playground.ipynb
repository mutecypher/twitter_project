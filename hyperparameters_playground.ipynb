{
 "cells": [
  {
   "cell_type": "markdown",
   "id": "a5382d41",
   "metadata": {},
   "source": [
    "## Imports\n"
   ]
  },
  {
   "cell_type": "code",
   "execution_count": 1,
   "id": "766f0070",
   "metadata": {},
   "outputs": [],
   "source": [
    "import math\n",
    "import numpy as np\n",
    "import tensorflow as tf\n",
    "import matplotlib.pyplot as plt\n",
    "%matplotlib inline\n"
   ]
  },
  {
   "cell_type": "code",
   "execution_count": 2,
   "id": "d2e1ccce",
   "metadata": {},
   "outputs": [],
   "source": [
    "from tensorflow import keras\n",
    "from tensorflow.keras.models import Sequential, save_model, load_model\n",
    "from tensorflow.keras.layers import Dense, GRU, Embedding\n",
    "from tensorflow.keras.optimizers import Adam, Ftrl, Adamax, SGD, Adadelta, Nadam, Optimizer, RMSprop, Adagrad\n",
    "from tensorflow.keras.preprocessing.text import Tokenizer\n",
    "from tensorflow.keras.preprocessing.sequence import pad_sequences\n",
    "from tensorflow.keras.callbacks import EarlyStopping, ModelCheckpoint, CSVLogger, TensorBoard, LambdaCallback\n",
    "from tensorflow.keras import backend as K\n",
    "from tensorflow.keras.activations import relu, sigmoid, softmax, tanh, hard_sigmoid, softsign, softplus, linear\n",
    "\n",
    "from tensorflow.keras import backend as K\n",
    "from tensorflow.keras.models import Sequential\n",
    "from tensorflow.keras.layers import InputLayer, Input\n",
    "from tensorflow.keras.layers import Reshape, MaxPooling2D\n",
    "from tensorflow.keras.layers import Conv2D, Dense, Flatten\n",
    "from tensorflow.keras.callbacks import TensorBoard\n",
    "from tensorflow.keras.models import load_model\n",
    "from keras_tuner import RandomSearch\n",
    "from keras_tuner.engine.hyperparameters import HyperParameters\n"
   ]
  },
  {
   "cell_type": "code",
   "execution_count": 3,
   "id": "ed84cb04",
   "metadata": {},
   "outputs": [],
   "source": [
    "import skopt\n",
    "from skopt import gp_minimize, forest_minimize\n",
    "from skopt.space import Real, Categorical, Integer\n",
    "from skopt.plots import plot_convergence\n",
    "from skopt.plots import plot_objective, plot_evaluations\n",
    "from skopt.plots import plot_histogram, plot_objective_2D\n",
    "from skopt.utils import use_named_args\n",
    "import sklearn.model_selection as sk\n",
    "from sklearn.metrics import roc_auc_score\n"
   ]
  },
  {
   "cell_type": "markdown",
   "id": "4da4421b",
   "metadata": {},
   "source": [
    "## What versions?\n"
   ]
  },
  {
   "cell_type": "code",
   "execution_count": 4,
   "id": "769571ed",
   "metadata": {},
   "outputs": [
    {
     "name": "stdout",
     "output_type": "stream",
     "text": [
      "\n",
      "TensorFlow version is  2.0.0\n",
      "\n",
      "Keras version is  2.2.4-tf\n",
      "\n",
      "SciKit-optimize version is 0.9.0\n"
     ]
    }
   ],
   "source": [
    "print(\"\\nTensorFlow version is \", tf.__version__)\n",
    "print(\"\\nKeras version is \", tf.keras.__version__)\n",
    "print(\"\\nSciKit-optimize version is\",  skopt.__version__)\n"
   ]
  },
  {
   "cell_type": "markdown",
   "id": "b66bc8a7",
   "metadata": {},
   "source": [
    "## Import the data for twitter sentiment\n"
   ]
  },
  {
   "cell_type": "code",
   "execution_count": 5,
   "id": "762871d0",
   "metadata": {},
   "outputs": [
    {
     "name": "stdout",
     "output_type": "stream",
     "text": [
      "(385042, 6)\n",
      "   Unnamed: 0          TWID       NEG       NEU       POS  \\\n",
      "0           0  7.680000e+17  0.049398  0.861395  0.089207   \n",
      "1           1  7.680000e+17  0.006598  0.046810  0.946591   \n",
      "2           2  7.680000e+17  0.032333  0.850945  0.116722   \n",
      "3           3  7.680000e+17  0.008090  0.042331  0.949579   \n",
      "4           4  7.680000e+17  0.009325  0.940488  0.050187   \n",
      "\n",
      "                                                text  \n",
      "0  #Incredible #India #Atulya #Bharat - Land of S...  \n",
      "1  RT @KendallHuntRPD: The #firstdayofschool for ...  \n",
      "2  RT @abbiesf_: Kate wrights figure is all I wan...  \n",
      "3  Josh Jenkins is looking forward to TAB Breeder...  \n",
      "4  Robert Pattinson Gets Ready to Hop on a Plane ...  \n"
     ]
    }
   ],
   "source": [
    "import pandas as pd\n",
    "\n",
    "file = '/Volumes/Elements/GitHub/twitter-project/Data Files/twitter_sentiment_learn.csv'\n",
    "\n",
    "learning_df = pd.read_csv(file)\n",
    "print(learning_df.shape)\n",
    "print(learning_df.head())\n"
   ]
  },
  {
   "cell_type": "markdown",
   "id": "78648500",
   "metadata": {},
   "source": [
    "## Set up test and train\n"
   ]
  },
  {
   "cell_type": "code",
   "execution_count": 6,
   "id": "51f1b7ca",
   "metadata": {},
   "outputs": [
    {
     "name": "stdout",
     "output_type": "stream",
     "text": [
      "Train-set size:  257978\n",
      "Test-set size:   127064\n"
     ]
    }
   ],
   "source": [
    "x = learning_df['text'].to_list()\n",
    "\n",
    "\n",
    "##learning_df[[\"bad\", \"meh\", \"good\"]] = 0\n",
    "# for i in range(learning_df.shape[0]):\n",
    "# if (learning_df.loc[i,\"NEG\"] >= learning_df.loc[i,\"NEU\"]) and (learning_df.loc[i,\"NEG\"] >= learning_df.loc[i,\"POS\"]):\n",
    "##        learning_df.loc[i,\"bad\"] = 1\n",
    "# elif (learning_df.loc[i,\"NEU\"] >= learning_df.loc[i,\"NEG\"]) and (learning_df.loc[i,\"NEU\"] >= learning_df.loc[i,\"POS\"]):\n",
    "##        learning_df.loc[i,\"meh\"] = 1\n",
    "# else:\n",
    "##        learning_df.loc[i,\"good\"] = 1\n",
    "\n",
    "##y = learning_df[[\"bad\", \"meh\", \"good\"]]\n",
    "\n",
    "y = learning_df[[\"NEG\", \"NEU\", \"POS\"]]\n",
    "\n",
    "##y = tarmac\n",
    "\n",
    "x_train, x_test, y_train, y_test = sk.train_test_split(\n",
    "    x, y, test_size=0.33, random_state=42)\n",
    "\n",
    "# Convert to numpy arrays.\n",
    "y_train = np.array(y_train)\n",
    "y_test = np.array(y_test)\n",
    "# print(x[1])\n",
    "\n",
    "print(\"Train-set size: \", len(x_train))\n",
    "print(\"Test-set size:  \", len(x_test))\n",
    "\n",
    "data_text = x_train + x_test\n"
   ]
  },
  {
   "cell_type": "markdown",
   "id": "48859a12",
   "metadata": {},
   "source": [
    "## Tokenization and other fun stuff for the test/train/validation\n"
   ]
  },
  {
   "cell_type": "code",
   "execution_count": 7,
   "id": "b3706087",
   "metadata": {},
   "outputs": [],
   "source": [
    "# can be played with\n",
    "\n",
    "num_words = 30000\n",
    "\n",
    "tokenizer = Tokenizer(num_words=num_words)\n",
    "\n",
    "# %%time\n",
    "tokenizer.fit_on_texts(data_text)\n",
    "\n",
    "x_train_tokens = tokenizer.texts_to_sequences(x_train)\n",
    "\n",
    "x_test_tokens = tokenizer.texts_to_sequences(x_test)\n"
   ]
  },
  {
   "cell_type": "code",
   "execution_count": 8,
   "id": "fe75c375",
   "metadata": {},
   "outputs": [],
   "source": [
    "num_tokens = [len(tokens) for tokens in x_train_tokens + x_test_tokens]\n",
    "num_tokens = np.array(num_tokens)\n",
    "\n",
    "max_tokens = np.mean(num_tokens) + 2 * np.std(num_tokens)\n",
    "max_tokens = math.floor(max_tokens)\n"
   ]
  },
  {
   "cell_type": "markdown",
   "id": "7aa6c8aa",
   "metadata": {},
   "source": [
    "## More work on the tokens and the training and testing sets\n"
   ]
  },
  {
   "cell_type": "code",
   "execution_count": 9,
   "id": "c5905993",
   "metadata": {},
   "outputs": [],
   "source": [
    "pad = 'pre'\n",
    "x_train_pad = pad_sequences(x_train_tokens, maxlen=max_tokens,\n",
    "                            padding=pad, truncating=pad)\n",
    "\n",
    "x_test_pad = pad_sequences(x_test_tokens, maxlen=max_tokens,\n",
    "                           padding=pad, truncating=pad)\n"
   ]
  },
  {
   "cell_type": "markdown",
   "id": "7d96db2d",
   "metadata": {},
   "source": [
    "## Set up hyperparameters\n"
   ]
  },
  {
   "cell_type": "code",
   "execution_count": 10,
   "id": "4796733b",
   "metadata": {},
   "outputs": [],
   "source": [
    "dim_learning_rate = Categorical(categories=[1e-3, 5e-4, 1e-4, 5e-5, 1e-5, 5e-6, 1e-6],\n",
    "                                name='learning_rate')\n",
    "\n",
    "dim_num_dense_layers = Categorical(\n",
    "    categories=[1, 2, 3, 4, 5, 6], name='num_dense_layers')\n",
    "\n",
    "dim_num_dense_nodes = Categorical(\n",
    "    categories=[10, 12, 15, 19, 24, 30], name='num_dense_nodes')\n",
    "\n",
    "\n",
    "dim_activation_1 = Categorical(categories=['relu', 'sigmoid', 'softmax', 'tanh', 'hard_sigmoid',\n",
    "                                           'softsign', 'softplus', 'linear'],\n",
    "                               name='activation_1')\n",
    "dim_activation_2 = Categorical(categories=['relu', 'sigmoid', 'softmax', 'tanh', 'hard_sigmoid',\n",
    "                                           'softsign', 'softplus', 'linear'],\n",
    "                               name='activation_2')\n",
    "\n",
    "dim_recurrent_1 = Categorical(categories=['relu', 'sigmoid', 'softmax', 'tanh', 'hard_sigmoid',\n",
    "                                          'softsign', 'softplus', 'linear'],\n",
    "                              name='recurrent_activation_1')\n",
    "\n",
    "dim_recurrent_2 = Categorical(categories=['relu', 'sigmoid', 'softmax', 'tanh', 'hard_sigmoid',\n",
    "                                          'softsign', 'softplus', 'linear'],\n",
    "                              name='recurrent_activation_2')\n",
    "\n",
    "dim_batches_yo = size = Categorical(\n",
    "    categories=[128, 160, 192, 256, 384, 512],  name='batchez_yo')\n",
    "\n",
    "\n",
    "dimensions = [dim_learning_rate,\n",
    "              dim_num_dense_layers,\n",
    "              dim_num_dense_nodes,\n",
    "              dim_activation_1,\n",
    "              dim_activation_2,\n",
    "              dim_recurrent_1,\n",
    "              dim_recurrent_2,\n",
    "              dim_batches_yo]\n"
   ]
  },
  {
   "cell_type": "markdown",
   "id": "ec6645c7",
   "metadata": {},
   "source": [
    "## Starting values\n"
   ]
  },
  {
   "cell_type": "code",
   "execution_count": 11,
   "id": "e3c46853",
   "metadata": {},
   "outputs": [],
   "source": [
    "default_parameters = [1e-3, 3, 10, 'softplus',\n",
    "                      'relu', 'sigmoid', 'softsign', 128]\n"
   ]
  },
  {
   "cell_type": "markdown",
   "id": "bdf515ba",
   "metadata": {},
   "source": [
    "## Now the optimizing function\n"
   ]
  },
  {
   "cell_type": "code",
   "execution_count": 12,
   "id": "9a30ead5",
   "metadata": {},
   "outputs": [],
   "source": [
    "figure_of_merit = 2 * max_tokens  # was 100\n",
    "first_layer = math.floor(max_tokens/2) + 2\n",
    "second_layer = math.floor(max_tokens/3) + 2\n",
    "third_layer = math.floor(max_tokens/4) + 3\n",
    "fourth_layer = math.floor(max_tokens/5) + 3\n",
    "embedding_size = figure_of_merit\n",
    "\n",
    "\n",
    "def log_dir_name(learning_rate,\n",
    "                 num_dense_layers,\n",
    "                 num_dense_nodes,\n",
    "                 activation_1,\n",
    "                 activation_2,\n",
    "                 recurrent_activation_1,\n",
    "                 recurrent_activation_2,\n",
    "                 batchez_yo):\n",
    "    # ,\n",
    " # optimizations_yo):\n",
    "\n",
    "    # The dir-name for the TensorBoard log-dir.\n",
    "    s = \"./19_logs/lr_{0:.0e}_layers_{1}_nodes_{2}_{3}/\"\n",
    "\n",
    "    # Insert all the hyper-parameters in the dir-name.\n",
    "    log_dir = s.format(learning_rate,\n",
    "                       num_dense_layers,\n",
    "                       num_dense_nodes,\n",
    "                       activation_1,\n",
    "                       activation_2,\n",
    "                       recurrent_activation_1,\n",
    "                       recurrent_activation_2,\n",
    "                       batchez_yo)\n",
    "    # ,\n",
    "    # optimizations_yo)\n",
    "    tf.autograph.experimental.do_not_convert(\n",
    "        func=None)\n",
    "\n",
    "    return log_dir\n",
    "\n",
    "\n",
    "def create_model(learning_rate,\n",
    "                 num_dense_layers,\n",
    "                 num_dense_nodes,\n",
    "                 activation_1,\n",
    "                 activation_2,\n",
    "                 recurrent_activation_1,\n",
    "                 recurrent_activation_2,\n",
    "                 batchez_yo):\n",
    "    # ,\n",
    "    # optimizations_yo):\n",
    "\n",
    "    # Start construction of a Keras Sequential model.\n",
    "    model = Sequential()\n",
    "\n",
    "    # Add an input layer which is similar to a feed_dict in TensorFlow.\n",
    "    # Note that the input-shape must be a tuple containing the image-size.\n",
    "    model.add(Embedding(input_dim=num_words,\n",
    "                        output_dim=embedding_size,\n",
    "                        input_length=max_tokens,\n",
    "                        name='layer_embedding'))\n",
    "\n",
    "\n",
    "# model.add(Flatten())\n",
    "\n",
    "    # Put in the GRU flavor\n",
    "    model.add(GRU(units=first_layer, activation=activation_1,\n",
    "                  recurrent_activation=recurrent_activation_1, return_sequences=True))\n",
    "\n",
    "    i = 0\n",
    "    j = num_dense_layers\n",
    "    while i < j:\n",
    "        model.add(GRU(units=math.floor(max_tokens/(i+2)) + 2, activation=activation_2,\n",
    "                      recurrent_activation=recurrent_activation_2, return_sequences=True))\n",
    "        i = i + 1\n",
    "\n",
    "    model.add(GRU(units=fourth_layer, activation=activation_1,\n",
    "                  recurrent_activation=recurrent_activation_1, return_sequences=False))\n",
    "    # , return_sequences = False))\n",
    "\n",
    "    model.add(Dense(3, activation=activation_2))  # was 3\n",
    "\n",
    "    # Use the Adam method for training the network.\n",
    "    # We want to find the best learning-rate for the Adam method.\n",
    "    # if optimizations_yo == 1:\n",
    "    ##    optimizer = Adadelta(lr=learning_rate)\n",
    "    ##  print(\"Optimizer is Adadelta.\")\n",
    "   # elif optimizations_yo == 2:\n",
    "   ##     optimizer = Adagrad(lr=learning_rate)\n",
    "   ##     print(\"Optimizer is Adagrad.\")\n",
    "    # elif optimizations_yo == 3:\n",
    "    ##    optimizer = Adam(lr=learning_rate)\n",
    "    ##    print(\"Optimizer is Adam.\")\n",
    "    # elif optimizations_yo == 4:\n",
    "    ##    optimizer = Adamax(lr=learning_rate)\n",
    "    ##    print(\"Optimizer is Adamax.\")\n",
    "    # else:\n",
    "    ##    optimizer = Nadam(lr=learning_rate)\n",
    "    ##    print(\"Optimizer is Nadam.\")\n",
    "\n",
    "    # In Keras we need to compile the model so it can be trained.\n",
    "    optimizering = Adam(learning_rate=learning_rate)\n",
    "\n",
    "    model.compile(loss='categorical_crossentropy',\n",
    "                  optimizer=optimizering,\n",
    "                  metrics=['accuracy'])\n",
    "\n",
    "    tf.autograph.experimental.do_not_convert(\n",
    "        func=None)\n",
    "\n",
    "    return model\n"
   ]
  },
  {
   "cell_type": "markdown",
   "id": "50bd80e8",
   "metadata": {},
   "source": [
    "## Now to make it more Gated and so on\n"
   ]
  },
  {
   "cell_type": "markdown",
   "id": "1e0ac209",
   "metadata": {},
   "source": [
    "## Train and evaluate the model\n"
   ]
  },
  {
   "cell_type": "code",
   "execution_count": 13,
   "id": "a36b0160",
   "metadata": {},
   "outputs": [],
   "source": [
    "path_best_model = '19_best_model.h5'\n",
    "\n",
    "\n",
    "best_accuracy = 0.0\n",
    "\n",
    "##validation_data = (data.x_val, data.y_val)\n",
    "\n",
    "\n",
    "@use_named_args(dimensions=dimensions)\n",
    "def fitness(learning_rate,\n",
    "            num_dense_layers,\n",
    "            num_dense_nodes,\n",
    "            activation_1,\n",
    "            activation_2,\n",
    "            recurrent_activation_1,\n",
    "            recurrent_activation_2,\n",
    "            batchez_yo):\n",
    "    # ,\n",
    "    # optimizations_yo):\n",
    "    \"\"\"\n",
    "    Hyper-parameters:\n",
    "    learning_rate:     Learning-rate for the optimizer.\n",
    "    num_dense_layers:  Number of dense layers.\n",
    "    num_dense_nodes:   Number of nodes in each dense layer.\n",
    "    activation:        Activation function for all layers.\n",
    "    \"\"\"\n",
    "    tf.autograph.experimental.do_not_convert(\n",
    "        func=None)\n",
    "\n",
    "    # Create the neural network with these hyper-parameters.\n",
    "    model = create_model(learning_rate=learning_rate,\n",
    "                         num_dense_layers=num_dense_layers,\n",
    "                         num_dense_nodes=num_dense_nodes,\n",
    "                         activation_1=activation_1,\n",
    "                         activation_2=activation_2,\n",
    "                         recurrent_activation_1=recurrent_activation_1,\n",
    "                         recurrent_activation_2=recurrent_activation_2,\n",
    "                         batchez_yo=batchez_yo)\n",
    "    # ,\n",
    "    # optimizations_yo = optimizations_yo)\n",
    "\n",
    "    # Dir-name for the TensorBoard log-files.\n",
    "    log_dir = log_dir_name(learning_rate,\n",
    "                           num_dense_layers,\n",
    "                           num_dense_nodes,\n",
    "                           activation_1,\n",
    "                           activation_2,\n",
    "                           recurrent_activation_1,\n",
    "                           recurrent_activation_2,\n",
    "                           batchez_yo)\n",
    "    # ,\n",
    "    # optimizations_yo)\n",
    "\n",
    "    # Create a callback-function for Keras which will be\n",
    "    # run after each epoch has ended during training.\n",
    "    # This saves the log-files for TensorBoard.\n",
    "    # Note that there are complications when histogram_freq=1.\n",
    "    # It might give strange errors and it also does not properly\n",
    "    # support Keras data-generators for the validation-set.\n",
    "    callback_log = TensorBoard(\n",
    "        log_dir=log_dir,\n",
    "        histogram_freq=0,\n",
    "        write_graph=True,\n",
    "        write_grads=False,\n",
    "        write_images=False)\n",
    "\n",
    "    callbackx = tf.keras.callbacks.EarlyStopping(monitor='val_accuracy',\n",
    "                                                 patience=0,\n",
    "                                                 restore_best_weights=True)\n",
    " # Not used in this version\n",
    "\n",
    "    class myCallback(tf.keras.callbacks.Callback):\n",
    "        def on_epoch_end(self, epoch, logs={}):\n",
    "            if(logs.get('val_accuracy') > 0.95):\n",
    "                print(\n",
    "                    \"\\nReached 95% validation accuracy, so changing the optimizer to Nadam.\")\n",
    "                optimizer = Nadam(learning_rate=learning_rate/5)\n",
    "                self.model.stop_training = False\n",
    "            if(logs.get('val_accuracy') > 0.97):\n",
    "                print(\n",
    "                    \"\\nReached 97% validation accuracy, so changing the optimizer to Adadelta.\")\n",
    "                optimizer = Adadelta(learning_rate=learning_rate/10)\n",
    "                self.model.stop_training = False\n",
    "\n",
    "    call_it = myCallback()\n",
    "\n",
    "    # Use Keras to train the model.\n",
    "    history = model.fit(x=x_train_pad,\n",
    "                        y=y_train,\n",
    "                        epochs=8,\n",
    "                        batch_size=batchez_yo,\n",
    "                        validation_split=0.3,\n",
    "                        callbacks=[callback_log, callbackx, call_it])\n",
    "\n",
    "    # Get the classification accuracy on the validation-set\n",
    "    # after the last training-epoch.\n",
    "    accuracy = history.history['val_accuracy'][-2]\n",
    "\n",
    "    # Print the classification accuracy.\n",
    "    print('+++++++++++++++++++++++++++')\n",
    "    print('Accuracy: {0:.2%}'.format(accuracy))\n",
    "    print('@@@@@@@@@@@@@@@@@@@@@')\n",
    "    # Print the hyper-parameters.\n",
    "    print('learning rate: {0:.1e}'.format(learning_rate))\n",
    "    print('num_dense_layers:', num_dense_layers)\n",
    "    print('num_dense_nodes:', num_dense_nodes)\n",
    "    print('activation_1:', activation_1)\n",
    "    print('activation_2:', activation_2)\n",
    "    print('recurrent_activation_1:', recurrent_activation_1)\n",
    "    print('recurrent_activation_2:', recurrent_activation_2)\n",
    "    print('batches are ', batchez_yo)\n",
    "    print('********************')\n",
    "    print('The model summary is ', model.summary)\n",
    "\n",
    "    # Save the model if it improves on the best-found performance.\n",
    "    # We use the global keyword so we update the variable outside\n",
    "    # of this function.\n",
    "    global best_accuracy\n",
    "\n",
    "    # If the classification accuracy of the saved model is improved ...\n",
    "    if accuracy > best_accuracy:\n",
    "        # Save the new model to harddisk.\n",
    "        model.save(path_best_model)\n",
    "\n",
    "        # Update the classification accuracy.\n",
    "        best_accuracy = accuracy\n",
    "\n",
    "    # Delete the Keras model with these hyper-parameters from memory.\n",
    "    del model\n",
    "\n",
    "    # Clear the Keras session, otherwise it will keep adding new\n",
    "    # models to the same TensorFlow graph each time we create\n",
    "    # a model with a different set of hyper-parameters.\n",
    "    K.clear_session()\n",
    "\n",
    "    # NOTE: Scikit-optimize does minimization so it tries to\n",
    "    # find a set of hyper-parameters with the LOWEST fitness-value.\n",
    "    # Because we are interested in the HIGHEST classification\n",
    "    # accuracy, we need to negate this number so it can be minimized.\n",
    "\n",
    "    return -accuracy\n"
   ]
  },
  {
   "cell_type": "markdown",
   "id": "43d41485",
   "metadata": {},
   "source": [
    "## Is this the test?\n"
   ]
  },
  {
   "cell_type": "code",
   "execution_count": 14,
   "id": "af253b83",
   "metadata": {},
   "outputs": [
    {
     "name": "stderr",
     "output_type": "stream",
     "text": [
      "2022-06-18 13:33:13.314406: I tensorflow/core/platform/cpu_feature_guard.cc:145] This TensorFlow binary is optimized with Intel(R) MKL-DNN to use the following CPU instructions in performance critical operations:  SSE4.1 SSE4.2 AVX AVX2 FMA\n",
      "To enable them in non-MKL-DNN operations, rebuild TensorFlow with the appropriate compiler flags.\n",
      "2022-06-18 13:33:13.314824: I tensorflow/core/common_runtime/process_util.cc:115] Creating new thread pool with default inter op setting: 16. Tune using inter_op_parallelism_threads for best performance.\n"
     ]
    },
    {
     "name": "stdout",
     "output_type": "stream",
     "text": [
      "Train on 180584 samples, validate on 77394 samples\n",
      "Epoch 1/8\n",
      "   128/180584 [..............................] - ETA: 4:23:03 - loss: 5.0330 - accuracy: 0.7266"
     ]
    },
    {
     "name": "stderr",
     "output_type": "stream",
     "text": [
      "2022-06-18 13:33:25.191284: I tensorflow/core/profiler/lib/profiler_session.cc:184] Profiler session started.\n"
     ]
    },
    {
     "name": "stdout",
     "output_type": "stream",
     "text": [
      "180584/180584 [==============================] - 560s 3ms/sample - loss: nan - accuracy: 0.3261 - val_loss: nan - val_accuracy: 0.0581\n",
      "Epoch 2/8\n",
      "180584/180584 [==============================] - 496s 3ms/sample - loss: nan - accuracy: 0.0568 - val_loss: nan - val_accuracy: 0.0581\n",
      "+++++++++++++++++++++++++++\n",
      "Accuracy: 5.81%\n",
      "@@@@@@@@@@@@@@@@@@@@@\n",
      "learning rate: 1.0e-03\n",
      "num_dense_layers: 3\n",
      "num_dense_nodes: 10\n",
      "activation_1: softplus\n",
      "activation_2: relu\n",
      "recurrent_activation_1: sigmoid\n",
      "recurrent_activation_2: softsign\n",
      "batches are  128\n",
      "********************\n",
      "The model summary is  <bound method Network.summary of <tensorflow.python.keras.engine.sequential.Sequential object at 0x7f83e253acd0>>\n",
      "Train on 180584 samples, validate on 77394 samples\n",
      "Epoch 1/8\n",
      "   256/180584 [..............................] - ETA: 1:45:40 - loss: 9.0719 - accuracy: 0.1328"
     ]
    },
    {
     "name": "stderr",
     "output_type": "stream",
     "text": [
      "2022-06-18 13:51:00.446913: I tensorflow/core/profiler/lib/profiler_session.cc:184] Profiler session started.\n"
     ]
    },
    {
     "name": "stdout",
     "output_type": "stream",
     "text": [
      "180584/180584 [==============================] - 280s 2ms/sample - loss: nan - accuracy: 0.4446 - val_loss: nan - val_accuracy: 0.0581\n",
      "Epoch 2/8\n",
      "180584/180584 [==============================] - 275s 2ms/sample - loss: nan - accuracy: 0.0568 - val_loss: nan - val_accuracy: 0.0581\n",
      "+++++++++++++++++++++++++++\n",
      "Accuracy: 5.81%\n",
      "@@@@@@@@@@@@@@@@@@@@@\n",
      "learning rate: 1.0e-03\n",
      "num_dense_layers: 3\n",
      "num_dense_nodes: 19\n",
      "activation_1: linear\n",
      "activation_2: relu\n",
      "recurrent_activation_1: linear\n",
      "recurrent_activation_2: softsign\n",
      "batches are  256\n",
      "********************\n",
      "The model summary is  <bound method Network.summary of <tensorflow.python.keras.engine.sequential.Sequential object at 0x7f83b3b27cd0>>\n",
      "Train on 180584 samples, validate on 77394 samples\n",
      "Epoch 1/8\n",
      "   256/180584 [..............................] - ETA: 3:04:38 - loss: 6.8343 - accuracy: 0.1680"
     ]
    },
    {
     "name": "stderr",
     "output_type": "stream",
     "text": [
      "2022-06-18 14:00:22.929162: I tensorflow/core/profiler/lib/profiler_session.cc:184] Profiler session started.\n"
     ]
    },
    {
     "name": "stdout",
     "output_type": "stream",
     "text": [
      "180584/180584 [==============================] - 398s 2ms/sample - loss: 2.8987 - accuracy: 0.5910 - val_loss: 9.3563 - val_accuracy: 0.6099\n",
      "Epoch 2/8\n",
      "180584/180584 [==============================] - 426s 2ms/sample - loss: 8.6417 - accuracy: 0.6098 - val_loss: 9.2372 - val_accuracy: 0.6099\n",
      "+++++++++++++++++++++++++++\n",
      "Accuracy: 60.99%\n",
      "@@@@@@@@@@@@@@@@@@@@@\n",
      "learning rate: 5.0e-05\n",
      "num_dense_layers: 6\n",
      "num_dense_nodes: 12\n",
      "activation_1: linear\n",
      "activation_2: linear\n",
      "recurrent_activation_1: sigmoid\n",
      "recurrent_activation_2: softplus\n",
      "batches are  256\n",
      "********************\n",
      "The model summary is  <bound method Network.summary of <tensorflow.python.keras.engine.sequential.Sequential object at 0x7f5d61989ad0>>\n",
      "Train on 180584 samples, validate on 77394 samples\n",
      "Epoch 1/8\n",
      "   384/180584 [..............................] - ETA: 57:56 - loss: 1.0653 - accuracy: 0.6198"
     ]
    },
    {
     "name": "stderr",
     "output_type": "stream",
     "text": [
      "2022-06-18 14:13:59.042673: I tensorflow/core/profiler/lib/profiler_session.cc:184] Profiler session started.\n"
     ]
    },
    {
     "name": "stdout",
     "output_type": "stream",
     "text": [
      "180584/180584 [==============================] - 186s 1ms/sample - loss: 1.0498 - accuracy: 0.6089 - val_loss: 1.0305 - val_accuracy: 0.6099\n",
      "Epoch 2/8\n",
      "180584/180584 [==============================] - 192s 1ms/sample - loss: 0.9949 - accuracy: 0.6089 - val_loss: 0.9360 - val_accuracy: 0.6099\n",
      "+++++++++++++++++++++++++++\n",
      "Accuracy: 60.99%\n",
      "@@@@@@@@@@@@@@@@@@@@@\n",
      "learning rate: 5.0e-05\n",
      "num_dense_layers: 1\n",
      "num_dense_nodes: 19\n",
      "activation_1: relu\n",
      "activation_2: hard_sigmoid\n",
      "recurrent_activation_1: softmax\n",
      "recurrent_activation_2: softmax\n",
      "batches are  384\n",
      "********************\n",
      "The model summary is  <bound method Network.summary of <tensorflow.python.keras.engine.sequential.Sequential object at 0x7f58f31495d0>>\n",
      "Train on 180584 samples, validate on 77394 samples\n",
      "Epoch 1/8\n",
      "   160/180584 [..............................] - ETA: 2:32:35 - loss: 1.3058 - accuracy: 0.0437"
     ]
    },
    {
     "name": "stderr",
     "output_type": "stream",
     "text": [
      "2022-06-18 14:20:18.539849: I tensorflow/core/profiler/lib/profiler_session.cc:184] Profiler session started.\n"
     ]
    },
    {
     "name": "stdout",
     "output_type": "stream",
     "text": [
      "180584/180584 [==============================] - 406s 2ms/sample - loss: 1.2195 - accuracy: 0.0568 - val_loss: 1.1478 - val_accuracy: 0.0581\n",
      "Epoch 2/8\n",
      "180584/180584 [==============================] - 408s 2ms/sample - loss: 1.0895 - accuracy: 0.3977 - val_loss: 1.0354 - val_accuracy: 0.6099\n",
      "Epoch 3/8\n",
      "180584/180584 [==============================] - 440s 2ms/sample - loss: 0.9894 - accuracy: 0.6089 - val_loss: 0.9476 - val_accuracy: 0.6099\n",
      "+++++++++++++++++++++++++++\n",
      "Accuracy: 60.99%\n",
      "@@@@@@@@@@@@@@@@@@@@@\n",
      "learning rate: 1.0e-05\n",
      "num_dense_layers: 2\n",
      "num_dense_nodes: 19\n",
      "activation_1: softplus\n",
      "activation_2: softplus\n",
      "recurrent_activation_1: softsign\n",
      "recurrent_activation_2: softmax\n",
      "batches are  160\n",
      "********************\n",
      "The model summary is  <bound method Network.summary of <tensorflow.python.keras.engine.sequential.Sequential object at 0x7f591ac10d50>>\n",
      "Train on 180584 samples, validate on 77394 samples\n",
      "Epoch 1/8\n",
      "   160/180584 [..............................] - ETA: 4:22:02 - loss: nan - accuracy: 0.0437"
     ]
    },
    {
     "name": "stderr",
     "output_type": "stream",
     "text": [
      "2022-06-18 14:41:20.800012: I tensorflow/core/profiler/lib/profiler_session.cc:184] Profiler session started.\n"
     ]
    },
    {
     "name": "stdout",
     "output_type": "stream",
     "text": [
      "180584/180584 [==============================] - 539s 3ms/sample - loss: nan - accuracy: 0.0568 - val_loss: nan - val_accuracy: 0.0581\n",
      "Epoch 2/8\n",
      "180584/180584 [==============================] - 568s 3ms/sample - loss: nan - accuracy: 0.0568 - val_loss: nan - val_accuracy: 0.0581\n",
      "+++++++++++++++++++++++++++\n",
      "Accuracy: 5.81%\n",
      "@@@@@@@@@@@@@@@@@@@@@\n",
      "learning rate: 1.0e-03\n",
      "num_dense_layers: 5\n",
      "num_dense_nodes: 19\n",
      "activation_1: tanh\n",
      "activation_2: softplus\n",
      "recurrent_activation_1: softsign\n",
      "recurrent_activation_2: softplus\n",
      "batches are  160\n",
      "********************\n",
      "The model summary is  <bound method Network.summary of <tensorflow.python.keras.engine.sequential.Sequential object at 0x7f656e325e90>>\n",
      "Train on 180584 samples, validate on 77394 samples\n",
      "Epoch 1/8\n",
      "   160/180584 [..............................] - ETA: 2:44:24 - loss: 1.0184 - accuracy: 0.3187"
     ]
    },
    {
     "name": "stderr",
     "output_type": "stream",
     "text": [
      "2022-06-18 14:59:43.860494: I tensorflow/core/profiler/lib/profiler_session.cc:184] Profiler session started.\n"
     ]
    },
    {
     "name": "stdout",
     "output_type": "stream",
     "text": [
      "180584/180584 [==============================] - 403s 2ms/sample - loss: 0.9959 - accuracy: 0.3343 - val_loss: 0.9770 - val_accuracy: 0.3320\n",
      "Epoch 2/8\n",
      "180584/180584 [==============================] - 536s 3ms/sample - loss: 0.9585 - accuracy: 0.3343 - val_loss: 0.9434 - val_accuracy: 0.3320\n",
      "+++++++++++++++++++++++++++\n",
      "Accuracy: 33.20%\n",
      "@@@@@@@@@@@@@@@@@@@@@\n",
      "learning rate: 5.0e-06\n",
      "num_dense_layers: 2\n",
      "num_dense_nodes: 15\n",
      "activation_1: sigmoid\n",
      "activation_2: relu\n",
      "recurrent_activation_1: sigmoid\n",
      "recurrent_activation_2: softmax\n",
      "batches are  160\n",
      "********************\n",
      "The model summary is  <bound method Network.summary of <tensorflow.python.keras.engine.sequential.Sequential object at 0x7ec657147d90>>\n",
      "Train on 180584 samples, validate on 77394 samples\n",
      "Epoch 1/8\n",
      "   384/180584 [..............................] - ETA: 1:41:13 - loss: nan - accuracy: 0.0495"
     ]
    },
    {
     "name": "stderr",
     "output_type": "stream",
     "text": [
      "2022-06-18 15:15:28.784187: I tensorflow/core/profiler/lib/profiler_session.cc:184] Profiler session started.\n"
     ]
    },
    {
     "name": "stdout",
     "output_type": "stream",
     "text": [
      "180584/180584 [==============================] - 259s 1ms/sample - loss: nan - accuracy: 0.0568 - val_loss: nan - val_accuracy: 0.0581\n",
      "Epoch 2/8\n",
      "180584/180584 [==============================] - 244s 1ms/sample - loss: nan - accuracy: 0.0568 - val_loss: nan - val_accuracy: 0.0581\n",
      "+++++++++++++++++++++++++++\n",
      "Accuracy: 5.81%\n",
      "@@@@@@@@@@@@@@@@@@@@@\n",
      "learning rate: 5.0e-04\n",
      "num_dense_layers: 3\n",
      "num_dense_nodes: 15\n",
      "activation_1: softmax\n",
      "activation_2: sigmoid\n",
      "recurrent_activation_1: softplus\n",
      "recurrent_activation_2: softplus\n",
      "batches are  384\n",
      "********************\n",
      "The model summary is  <bound method Network.summary of <tensorflow.python.keras.engine.sequential.Sequential object at 0x7f591cce5710>>\n",
      "Train on 180584 samples, validate on 77394 samples\n",
      "Epoch 1/8\n",
      "   128/180584 [..............................] - ETA: 5:47:40 - loss: 1.1982 - accuracy: 0.0469"
     ]
    },
    {
     "name": "stderr",
     "output_type": "stream",
     "text": [
      "2022-06-18 15:23:54.323692: I tensorflow/core/profiler/lib/profiler_session.cc:184] Profiler session started.\n"
     ]
    },
    {
     "name": "stdout",
     "output_type": "stream",
     "text": [
      "180584/180584 [==============================] - 609s 3ms/sample - loss: 1.1430 - accuracy: 0.3161 - val_loss: 1.0704 - val_accuracy: 0.3320\n",
      "Epoch 2/8\n",
      "180584/180584 [==============================] - 638s 4ms/sample - loss: 1.0174 - accuracy: 0.3343 - val_loss: 0.9666 - val_accuracy: 0.3320\n",
      "+++++++++++++++++++++++++++\n",
      "Accuracy: 33.20%\n",
      "@@@@@@@@@@@@@@@@@@@@@\n",
      "learning rate: 1.0e-05\n",
      "num_dense_layers: 4\n",
      "num_dense_nodes: 10\n",
      "activation_1: softsign\n",
      "activation_2: softplus\n",
      "recurrent_activation_1: linear\n",
      "recurrent_activation_2: hard_sigmoid\n",
      "batches are  128\n",
      "********************\n",
      "The model summary is  <bound method Network.summary of <tensorflow.python.keras.engine.sequential.Sequential object at 0x7e48cf537fd0>>\n",
      "Train on 180584 samples, validate on 77394 samples\n",
      "Epoch 1/8\n",
      "   256/180584 [..............................] - ETA: 2:00:27 - loss: 5.1655 - accuracy: 0.1602"
     ]
    },
    {
     "name": "stderr",
     "output_type": "stream",
     "text": [
      "2022-06-18 15:44:37.511164: I tensorflow/core/profiler/lib/profiler_session.cc:184] Profiler session started.\n"
     ]
    },
    {
     "name": "stdout",
     "output_type": "stream",
     "text": [
      "180584/180584 [==============================] - 239s 1ms/sample - loss: 1.8504 - accuracy: 0.0571 - val_loss: 1.8820 - val_accuracy: 0.0581\n",
      "Epoch 2/8\n",
      "180584/180584 [==============================] - 220s 1ms/sample - loss: 1.8504 - accuracy: 0.0568 - val_loss: 1.8820 - val_accuracy: 0.0581\n",
      "+++++++++++++++++++++++++++\n",
      "Accuracy: 5.81%\n",
      "@@@@@@@@@@@@@@@@@@@@@\n",
      "learning rate: 5.0e-04\n",
      "num_dense_layers: 1\n",
      "num_dense_nodes: 10\n",
      "activation_1: tanh\n",
      "activation_2: linear\n",
      "recurrent_activation_1: softplus\n",
      "recurrent_activation_2: hard_sigmoid\n",
      "batches are  256\n",
      "********************\n",
      "The model summary is  <bound method Network.summary of <tensorflow.python.keras.engine.sequential.Sequential object at 0x7e22a8dd8e10>>\n",
      "Train on 180584 samples, validate on 77394 samples\n",
      "Epoch 1/8\n",
      "   512/180584 [..............................] - ETA: 1:33:57 - loss: 1.0114 - accuracy: 0.3555"
     ]
    },
    {
     "name": "stderr",
     "output_type": "stream",
     "text": [
      "2022-06-18 15:52:23.266655: I tensorflow/core/profiler/lib/profiler_session.cc:184] Profiler session started.\n"
     ]
    },
    {
     "name": "stdout",
     "output_type": "stream",
     "text": [
      "180584/180584 [==============================] - 241s 1ms/sample - loss: 0.8898 - accuracy: 0.5763 - val_loss: 0.8735 - val_accuracy: 0.6099\n",
      "Epoch 2/8\n",
      "180584/180584 [==============================] - 260s 1ms/sample - loss: 0.8722 - accuracy: 0.6089 - val_loss: 0.8734 - val_accuracy: 0.6099\n",
      "+++++++++++++++++++++++++++\n",
      "Accuracy: 60.99%\n",
      "@@@@@@@@@@@@@@@@@@@@@\n",
      "learning rate: 1.0e-03\n",
      "num_dense_layers: 5\n",
      "num_dense_nodes: 12\n",
      "activation_1: relu\n",
      "activation_2: hard_sigmoid\n",
      "recurrent_activation_1: sigmoid\n",
      "recurrent_activation_2: relu\n",
      "batches are  512\n",
      "********************\n",
      "The model summary is  <bound method Network.summary of <tensorflow.python.keras.engine.sequential.Sequential object at 0x7e43028f6350>>\n",
      "CPU times: user 7h 38min 31s, sys: 20h 4min 42s, total: 1d 3h 43min 13s\n",
      "Wall time: 2h 27min 15s\n"
     ]
    }
   ],
   "source": [
    "% % time\n",
    "\n",
    "search_result = gp_minimize(func=fitness,\n",
    "                            dimensions=dimensions,\n",
    "                            acq_func='EI',  # Expected of improvement.\n",
    "                            n_calls=11,\n",
    "                            x0=default_parameters)\n"
   ]
  },
  {
   "cell_type": "code",
   "execution_count": 15,
   "id": "841fbe1f",
   "metadata": {},
   "outputs": [
    {
     "name": "stdout",
     "output_type": "stream",
     "text": [
      "the date and time is  2022-06-18 16:00:29.163446\n"
     ]
    }
   ],
   "source": [
    "import datetime\n",
    "\n",
    "time_now = datetime.datetime.now()\n",
    "\n",
    "\n",
    "print(\"the date and time is \", time_now)\n"
   ]
  },
  {
   "cell_type": "markdown",
   "id": "17f9f586",
   "metadata": {},
   "source": [
    "## Evaluate the model\n"
   ]
  },
  {
   "cell_type": "code",
   "execution_count": 16,
   "id": "c5a4fd47",
   "metadata": {},
   "outputs": [
    {
     "ename": "AttributeError",
     "evalue": "'str' object has no attribute 'decode'",
     "output_type": "error",
     "traceback": [
      "\u001b[0;31m---------------------------------------------------------------------------\u001b[0m",
      "\u001b[0;31mAttributeError\u001b[0m                            Traceback (most recent call last)",
      "\u001b[0;32m/var/folders/3q/y2fjlm8n4752m4cv89kq3r0h0000gn/T/ipykernel_92009/2480159394.py\u001b[0m in \u001b[0;36m<module>\u001b[0;34m\u001b[0m\n\u001b[1;32m      3\u001b[0m \u001b[0msearch_result\u001b[0m\u001b[0;34m.\u001b[0m\u001b[0mx\u001b[0m\u001b[0;34m\u001b[0m\u001b[0;34m\u001b[0m\u001b[0m\n\u001b[1;32m      4\u001b[0m \u001b[0;34m\u001b[0m\u001b[0m\n\u001b[0;32m----> 5\u001b[0;31m \u001b[0mmodel\u001b[0m \u001b[0;34m=\u001b[0m \u001b[0mload_model\u001b[0m\u001b[0;34m(\u001b[0m\u001b[0mpath_best_model\u001b[0m\u001b[0;34m)\u001b[0m\u001b[0;34m\u001b[0m\u001b[0;34m\u001b[0m\u001b[0m\n\u001b[0m\u001b[1;32m      6\u001b[0m \u001b[0;34m\u001b[0m\u001b[0m\n\u001b[1;32m      7\u001b[0m result = model.evaluate(x= x_test_pad,\n",
      "\u001b[0;32m~/opt/anaconda3/envs/for_tensorflow/lib/python3.7/site-packages/tensorflow_core/python/keras/saving/save.py\u001b[0m in \u001b[0;36mload_model\u001b[0;34m(filepath, custom_objects, compile)\u001b[0m\n\u001b[1;32m    144\u001b[0m   if (h5py is not None and (\n\u001b[1;32m    145\u001b[0m       isinstance(filepath, h5py.File) or h5py.is_hdf5(filepath))):\n\u001b[0;32m--> 146\u001b[0;31m     \u001b[0;32mreturn\u001b[0m \u001b[0mhdf5_format\u001b[0m\u001b[0;34m.\u001b[0m\u001b[0mload_model_from_hdf5\u001b[0m\u001b[0;34m(\u001b[0m\u001b[0mfilepath\u001b[0m\u001b[0;34m,\u001b[0m \u001b[0mcustom_objects\u001b[0m\u001b[0;34m,\u001b[0m \u001b[0mcompile\u001b[0m\u001b[0;34m)\u001b[0m\u001b[0;34m\u001b[0m\u001b[0;34m\u001b[0m\u001b[0m\n\u001b[0m\u001b[1;32m    147\u001b[0m \u001b[0;34m\u001b[0m\u001b[0m\n\u001b[1;32m    148\u001b[0m   \u001b[0;32mif\u001b[0m \u001b[0misinstance\u001b[0m\u001b[0;34m(\u001b[0m\u001b[0mfilepath\u001b[0m\u001b[0;34m,\u001b[0m \u001b[0msix\u001b[0m\u001b[0;34m.\u001b[0m\u001b[0mstring_types\u001b[0m\u001b[0;34m)\u001b[0m\u001b[0;34m:\u001b[0m\u001b[0;34m\u001b[0m\u001b[0;34m\u001b[0m\u001b[0m\n",
      "\u001b[0;32m~/opt/anaconda3/envs/for_tensorflow/lib/python3.7/site-packages/tensorflow_core/python/keras/saving/hdf5_format.py\u001b[0m in \u001b[0;36mload_model_from_hdf5\u001b[0;34m(filepath, custom_objects, compile)\u001b[0m\n\u001b[1;32m    164\u001b[0m     \u001b[0;32mif\u001b[0m \u001b[0mmodel_config\u001b[0m \u001b[0;32mis\u001b[0m \u001b[0;32mNone\u001b[0m\u001b[0;34m:\u001b[0m\u001b[0;34m\u001b[0m\u001b[0;34m\u001b[0m\u001b[0m\n\u001b[1;32m    165\u001b[0m       \u001b[0;32mraise\u001b[0m \u001b[0mValueError\u001b[0m\u001b[0;34m(\u001b[0m\u001b[0;34m'No model found in config file.'\u001b[0m\u001b[0;34m)\u001b[0m\u001b[0;34m\u001b[0m\u001b[0;34m\u001b[0m\u001b[0m\n\u001b[0;32m--> 166\u001b[0;31m     \u001b[0mmodel_config\u001b[0m \u001b[0;34m=\u001b[0m \u001b[0mjson\u001b[0m\u001b[0;34m.\u001b[0m\u001b[0mloads\u001b[0m\u001b[0;34m(\u001b[0m\u001b[0mmodel_config\u001b[0m\u001b[0;34m.\u001b[0m\u001b[0mdecode\u001b[0m\u001b[0;34m(\u001b[0m\u001b[0;34m'utf-8'\u001b[0m\u001b[0;34m)\u001b[0m\u001b[0;34m)\u001b[0m\u001b[0;34m\u001b[0m\u001b[0;34m\u001b[0m\u001b[0m\n\u001b[0m\u001b[1;32m    167\u001b[0m     model = model_config_lib.model_from_config(model_config,\n\u001b[1;32m    168\u001b[0m                                                custom_objects=custom_objects)\n",
      "\u001b[0;31mAttributeError\u001b[0m: 'str' object has no attribute 'decode'"
     ]
    },
    {
     "data": {
      "image/png": "[encoded data removed]",
      "text/plain": [
       "<Figure size 432x288 with 1 Axes>"
      ]
     },
     "metadata": {
      "needs_background": "light"
     },
     "output_type": "display_data"
    }
   ],
   "source": [
    "plot_convergence(search_result)\n",
    "\n",
    "search_result.x\n",
    "\n",
    "model = load_model(path_best_model)\n",
    "\n",
    "result = model.evaluate(x=x_test_pad,\n",
    "                        y=y_test)\n",
    "\n",
    "for name, value in zip(model.metrics_names, result):\n",
    "    print(name, value)\n",
    "\n",
    "print(\"{0}: {1:.2%}\".format(model.metrics_names[1], result[1]))\n"
   ]
  },
  {
   "cell_type": "code",
   "execution_count": null,
   "id": "bd3daa10",
   "metadata": {},
   "outputs": [],
   "source": [
    "% % time\n",
    "default_parameters_1 = [1e-6, 6, 30, 'linear',\n",
    "                        'linear', 'linear', 'linear', 512]\n",
    "\n",
    "search_result = gp_minimize(func=fitness,\n",
    "                            dimensions=dimensions,\n",
    "                            acq_func='LCB',  # Lower Confidence Bound.\n",
    "                            n_calls=12,\n",
    "                            x0=default_parameters_1)\n"
   ]
  },
  {
   "cell_type": "code",
   "execution_count": null,
   "id": "16792ffb",
   "metadata": {},
   "outputs": [],
   "source": [
    "\n",
    "\n",
    "time_now = datetime.datetime.now()\n",
    "\n",
    "\n",
    "print(\"the date and time is \", time_now)\n"
   ]
  },
  {
   "cell_type": "code",
   "execution_count": null,
   "id": "660f605d",
   "metadata": {},
   "outputs": [],
   "source": [
    "plot_convergence(search_result)\n",
    "\n",
    "search_result.x\n",
    "\n",
    "model = load_model(path_best_model)\n",
    "\n",
    "result = model.evaluate(x=x_test_pad,\n",
    "                        y=y_test)\n",
    "\n",
    "for name, value in zip(model.metrics_names, result):\n",
    "    print(name, value)\n",
    "\n",
    "print(\"{0}: {1:.2%}\".format(model.metrics_names[1], result[1]))\n"
   ]
  },
  {
   "cell_type": "code",
   "execution_count": null,
   "id": "440994e0",
   "metadata": {},
   "outputs": [],
   "source": [
    "% % time\n",
    "default_parameters_2 = [1e-5, 3, 10, 'sigmoid', 'sigmoid', 'relu', 'relu', 256]\n",
    "\n",
    "search_result = gp_minimize(func=fitness,\n",
    "                            dimensions=dimensions,\n",
    "                            acq_func='gp_hedge',  # Probability of improvement.\n",
    "                            n_calls=12,\n",
    "                            x0=default_parameters_2)\n"
   ]
  },
  {
   "cell_type": "code",
   "execution_count": null,
   "id": "da309826",
   "metadata": {},
   "outputs": [],
   "source": [
    "\n",
    "time_now = datetime.datetime.now()\n",
    "\n",
    "\n",
    "print(\"the date and time is \", time_now)\n"
   ]
  },
  {
   "cell_type": "code",
   "execution_count": null,
   "id": "c0f368cd",
   "metadata": {},
   "outputs": [],
   "source": [
    "plot_convergence(search_result)\n",
    "\n",
    "search_result.x\n",
    "\n",
    "model = load_model(path_best_model)\n",
    "\n",
    "result = model.evaluate(x=x_test_pad,\n",
    "                        y=y_test)\n",
    "\n",
    "for name, value in zip(model.metrics_names, result):\n",
    "    print(name, value)\n",
    "\n",
    "print(\"{0}: {1:.2%}\".format(model.metrics_names[1], result[1]))\n"
   ]
  },
  {
   "cell_type": "code",
   "execution_count": null,
   "id": "4a1fe701",
   "metadata": {},
   "outputs": [],
   "source": [
    "% % time\n",
    "default_parameters_3 = [1e-5, 3, 10, 'softmax',\n",
    "                        'sigmoid', 'relu', 'softmax', 384]\n",
    "\n",
    "search_result = gp_minimize(func=fitness,\n",
    "                            dimensions=dimensions,\n",
    "                            acq_func='gp_hedge',  # Hedge of the above 3.\n",
    "                            n_calls=10\\2,\n",
    "                            x0=default_parameters_3)\n"
   ]
  },
  {
   "cell_type": "code",
   "execution_count": null,
   "id": "f00f4691",
   "metadata": {},
   "outputs": [],
   "source": [
    "\n",
    "time_now = datetime.datetime.now()\n",
    "\n",
    "\n",
    "print(\"the date and time is \", time_now)\n"
   ]
  },
  {
   "cell_type": "code",
   "execution_count": null,
   "id": "b6a881f0",
   "metadata": {
    "scrolled": true
   },
   "outputs": [],
   "source": [
    "plot_convergence(search_result)\n",
    "\n",
    "search_result.x\n",
    "\n",
    "model = load_model(path_best_model)\n",
    "\n",
    "result = model.evaluate(x=x_test_pad,\n",
    "                        y=y_test)\n",
    "\n",
    "for name, value in zip(model.metrics_names, result):\n",
    "    print(name, value)\n",
    "\n",
    "print(\"{0}: {1:.2%}\".format(model.metrics_names[1], result[1]))\n"
   ]
  },
  {
   "cell_type": "code",
   "execution_count": null,
   "id": "d449e860",
   "metadata": {},
   "outputs": [],
   "source": []
  }
 ],
 "metadata": {
  "kernelspec": {
   "display_name": "Python 3.7.11 ('for_tensorflow')",
   "language": "python",
   "name": "python3"
  },
  "language_info": {
   "codemirror_mode": {
    "name": "ipython",
    "version": 3
   },
   "file_extension": ".py",
   "mimetype": "text/x-python",
   "name": "python",
   "nbconvert_exporter": "python",
   "pygments_lexer": "ipython3",
   "version": "3.7.13"
  },
  "vscode": {
   "interpreter": {
    "hash": "15723ea50007c9eb518e398a0ca0130bc4bd2586315387ed6566b7a3b6eabae5"
   }
  }
 },
 "nbformat": 4,
 "nbformat_minor": 5
}
