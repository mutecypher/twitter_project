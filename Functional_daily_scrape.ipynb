{
 "cells": [
  {
   "cell_type": "markdown",
   "id": "69d9ad7f-2069-47d9-9c81-4de5b0c90893",
   "metadata": {},
   "source": [
    "Initial setup for functional twitter scrape"
   ]
  },
  {
   "cell_type": "code",
   "execution_count": 9,
   "id": "d0125001-5405-4dc5-8d10-32a767fa74ee",
   "metadata": {},
   "outputs": [
    {
     "name": "stdout",
     "output_type": "stream",
     "text": [
      "pandas version is  1.4.1\n",
      "3.9.0 (v3.9.0:9cf6752276, Oct  5 2020, 11:29:23) \n",
      "[Clang 6.0 (clang-600.0.57)]\n",
      "202203261332\n",
      "202202241332\n"
     ]
    }
   ],
   "source": [
    "\"\"\"\n",
    "Revised with new tweepy api in October 22, 2021\n",
    "\n",
    "\n",
    "@author: mutecypher\n",
    "\"\"\"\n",
    "\n",
    "import numpy as np\n",
    "import pandas as pd\n",
    "print(\"pandas version is \", pd.__version__)\n",
    "import tweepy \n",
    "import json\n",
    "import datetime\n",
    "import time\n",
    "\n",
    "import sys\n",
    "consumer_key = \"hRA7EQ2Xem4WW4a0EFqQOasZY\"\n",
    "consumer_secret = \"ZRLOHC1ercuD8u35RjpbqF39GlmC4J5ekTVAYrdOEDaQdG7FLp\"\n",
    "access_token = \"877329134061596672-XID5ykQuHeIOHV5E5EdVKTdS0eyCbeg\"\n",
    "access_token_secret = \"8Hg8gGk33dtgacuzmRHxTHykHX5RU2Th1lLDLjMugFmCL\"\n",
    "API_key = 'LDlnUMsdhGi8erYnPBQZK0j13'\n",
    "##API_key = 'qchdahMH5QJp0xd1dPQPTdxAJ'\n",
    "API_SECRET_KEY = '1ZbE5lRPol1TfILkDRz8RNbcBYziz5L2Qym6I1He6XIPt3yciH'\n",
    "##bearer_token = 'AAAAAAAAAAAAAAAAAAAAALeyOgEAAAAAEQNu9C0zdTLIWdJVL2cZi6G3WWM%3DjaeSOIcT9bW6GSWwovcbld7Gwe8zXugDmCk660m0yMPuavP7vZ'\n",
    "##auth = tweepy.OAuthHandler(consumer_key, consumer_secret)\n",
    "##auth = tweepy.AppAuthHandler(bearer_token, consumer_secret)\n",
    "##auth.set_access_token(access_token, access_token_secret)\n",
    "\n",
    "##\n",
    "auth = tweepy.OAuthHandler(API_key, API_SECRET_KEY)\n",
    "api = tweepy.API(auth, wait_on_rate_limit=True)\n",
    "\n",
    "##\n",
    "\n",
    "items_to_get = 100\n",
    "\n",
    "whats_today = datetime.datetime.now()\n",
    "whats_today = whats_today.strftime(\"%Y%m%d%H%M\")\n",
    "\n",
    "\n",
    "\n",
    "\n",
    "\n",
    "minus_one = datetime.datetime.now() - datetime.timedelta(days = 1)\n",
    "minus_one = minus_one.strftime(\"%Y%m%d%H%M\")\n",
    "minus_two = datetime.datetime.now() - datetime.timedelta(days = 2)\n",
    "minus_two = minus_two.strftime(\"%Y%m%d%H%M\")\n",
    "##minus_two = datetime.strptime(minus_two, \"%Y%M%d%H%m\")\n",
    "\n",
    "minus_thirty = datetime.datetime.now() - datetime.timedelta(days = 30)\n",
    "\n",
    "minus_thirty = minus_thirty.strftime(\"%Y%m%d%H%M\")\n",
    "\n",
    "##minus_thirty = datetime.datetime.strptime(minus_thirty, \"%Y%M%d%H%m\")\n",
    "\n",
    "print(sys.version)\n",
    "print(whats_today)\n",
    "print(minus_thirty)\n"
   ]
  },
  {
   "cell_type": "markdown",
   "id": "594cf777-2db5-4055-8e1d-58ee31511bf4",
   "metadata": {},
   "source": []
  },
  {
   "cell_type": "code",
   "execution_count": 10,
   "id": "90b289f7-e4a0-4d96-bde1-5d636b2763a5",
   "metadata": {},
   "outputs": [],
   "source": [
    "\n",
    "filez = [ 'amazon_twitter_source.csv', 'kmi_twitter_source.csv']\n",
    "\n",
    "         \n",
    "keywordz_1=['AMZN', 'KMI']\n",
    "         \n",
    "keywordz_2=['Amazon', 'Kinder Morgan']\n",
    "\n"
   ]
  },
  {
   "cell_type": "markdown",
   "id": "2fa75deb-c21b-4325-8f5e-bd92bd4d69b5",
   "metadata": {},
   "source": []
  },
  {
   "cell_type": "code",
   "execution_count": 13,
   "id": "2e23a070-b34d-488a-af25-9057ab5f8960",
   "metadata": {},
   "outputs": [
    {
     "ename": "TooManyRequests",
     "evalue": "429 Too Many Requests\nRequest exceeds account’s current package request limits. Please upgrade your package and retry or contact Twitter about enterprise access.",
     "output_type": "error",
     "traceback": [
      "\u001b[0;31m---------------------------------------------------------------------------\u001b[0m",
      "\u001b[0;31mTooManyRequests\u001b[0m                           Traceback (most recent call last)",
      "\u001b[1;32m/Volumes/Elements/GitHub/twitter-project/twitter-project/Functional_daily_scrape.ipynb Cell 6'\u001b[0m in \u001b[0;36m<cell line: 25>\u001b[0;34m()\u001b[0m\n\u001b[1;32m     <a href='vscode-notebook-cell:/Volumes/Elements/GitHub/twitter-project/twitter-project/Functional_daily_scrape.ipynb#ch0000005?line=21'>22</a>\u001b[0m         time\u001b[39m.\u001b[39msleep(\u001b[39m0.5\u001b[39m)\n\u001b[1;32m     <a href='vscode-notebook-cell:/Volumes/Elements/GitHub/twitter-project/twitter-project/Functional_daily_scrape.ipynb#ch0000005?line=22'>23</a>\u001b[0m     \u001b[39mreturn\u001b[39;00m filez\n\u001b[0;32m---> <a href='vscode-notebook-cell:/Volumes/Elements/GitHub/twitter-project/twitter-project/Functional_daily_scrape.ipynb#ch0000005?line=24'>25</a>\u001b[0m try_hard \u001b[39m=\u001b[39m get_the_tweets( \u001b[39m'\u001b[39;49m\u001b[39mbabba.csv\u001b[39;49m\u001b[39m'\u001b[39;49m, \u001b[39m'\u001b[39;49m\u001b[39mAMZN\u001b[39;49m\u001b[39m'\u001b[39;49m,\u001b[39m'\u001b[39;49m\u001b[39mAmazon\u001b[39;49m\u001b[39m'\u001b[39;49m, \u001b[39m20\u001b[39;49m)\n\u001b[1;32m     <a href='vscode-notebook-cell:/Volumes/Elements/GitHub/twitter-project/twitter-project/Functional_daily_scrape.ipynb#ch0000005?line=26'>27</a>\u001b[0m Amazon_df \u001b[39m=\u001b[39m pd\u001b[39m.\u001b[39mDataFrame(try_hard, columns \u001b[39m=\u001b[39m [\u001b[39m'\u001b[39m\u001b[39mcreated_at\u001b[39m\u001b[39m'\u001b[39m,\u001b[39m'\u001b[39m\u001b[39mfull_text\u001b[39m\u001b[39m'\u001b[39m, \u001b[39m'\u001b[39m\u001b[39mretweet_count\u001b[39m\u001b[39m'\u001b[39m, \u001b[39m'\u001b[39m\u001b[39muser_id\u001b[39m\u001b[39m'\u001b[39m, \u001b[39m'\u001b[39m\u001b[39muser.favourites_count\u001b[39m\u001b[39m'\u001b[39m, \u001b[39m'\u001b[39m\u001b[39muser.followers_count\u001b[39m\u001b[39m'\u001b[39m,\u001b[39m'\u001b[39m\u001b[39mlanguage\u001b[39m\u001b[39m'\u001b[39m])\n\u001b[1;32m     <a href='vscode-notebook-cell:/Volumes/Elements/GitHub/twitter-project/twitter-project/Functional_daily_scrape.ipynb#ch0000005?line=27'>28</a>\u001b[0m Amazon_df \u001b[39m=\u001b[39m Amazon_df[Amazon_df[\u001b[39m'\u001b[39m\u001b[39mlanguage\u001b[39m\u001b[39m'\u001b[39m] \u001b[39m==\u001b[39m \u001b[39m\"\u001b[39m\u001b[39men\u001b[39m\u001b[39m\"\u001b[39m]\n",
      "\u001b[1;32m/Volumes/Elements/GitHub/twitter-project/twitter-project/Functional_daily_scrape.ipynb Cell 6'\u001b[0m in \u001b[0;36mget_the_tweets\u001b[0;34m(filez, firstkeyword, secondkeyword, days_back)\u001b[0m\n\u001b[1;32m     <a href='vscode-notebook-cell:/Volumes/Elements/GitHub/twitter-project/twitter-project/Functional_daily_scrape.ipynb#ch0000005?line=12'>13</a>\u001b[0m         filez\u001b[39m.\u001b[39mappend((tweet\u001b[39m.\u001b[39mcreated_at, tweet\u001b[39m.\u001b[39mtext, \n\u001b[1;32m     <a href='vscode-notebook-cell:/Volumes/Elements/GitHub/twitter-project/twitter-project/Functional_daily_scrape.ipynb#ch0000005?line=13'>14</a>\u001b[0m                 tweet\u001b[39m.\u001b[39mretweet_count, tweet\u001b[39m.\u001b[39muser\u001b[39m.\u001b[39mid,\n\u001b[1;32m     <a href='vscode-notebook-cell:/Volumes/Elements/GitHub/twitter-project/twitter-project/Functional_daily_scrape.ipynb#ch0000005?line=14'>15</a>\u001b[0m                 tweet\u001b[39m.\u001b[39muser\u001b[39m.\u001b[39mfavourites_count, tweet\u001b[39m.\u001b[39muser\u001b[39m.\u001b[39mfollowers_count, tweet\u001b[39m.\u001b[39mlang ))\n\u001b[1;32m     <a href='vscode-notebook-cell:/Volumes/Elements/GitHub/twitter-project/twitter-project/Functional_daily_scrape.ipynb#ch0000005?line=15'>16</a>\u001b[0m time\u001b[39m.\u001b[39msleep(\u001b[39m0.5\u001b[39m)\n\u001b[0;32m---> <a href='vscode-notebook-cell:/Volumes/Elements/GitHub/twitter-project/twitter-project/Functional_daily_scrape.ipynb#ch0000005?line=16'>17</a>\u001b[0m tweets \u001b[39m=\u001b[39m api\u001b[39m.\u001b[39;49msearch_30_day(label \u001b[39m=\u001b[39;49m \u001b[39m'\u001b[39;49m\u001b[39mThirtyDaze\u001b[39;49m\u001b[39m'\u001b[39;49m, query \u001b[39m=\u001b[39;49m secondkeyword, fromDate \u001b[39m=\u001b[39;49m dazeback, toDate \u001b[39m=\u001b[39;49m dazeback_plus_one, maxResults \u001b[39m=\u001b[39;49m \u001b[39m100\u001b[39;49m)\n\u001b[1;32m     <a href='vscode-notebook-cell:/Volumes/Elements/GitHub/twitter-project/twitter-project/Functional_daily_scrape.ipynb#ch0000005?line=17'>18</a>\u001b[0m \u001b[39mfor\u001b[39;00m tweet \u001b[39min\u001b[39;00m tweets:\n\u001b[1;32m     <a href='vscode-notebook-cell:/Volumes/Elements/GitHub/twitter-project/twitter-project/Functional_daily_scrape.ipynb#ch0000005?line=18'>19</a>\u001b[0m         filez\u001b[39m.\u001b[39mappend((tweet\u001b[39m.\u001b[39mcreated_at, tweet\u001b[39m.\u001b[39mtext, \n\u001b[1;32m     <a href='vscode-notebook-cell:/Volumes/Elements/GitHub/twitter-project/twitter-project/Functional_daily_scrape.ipynb#ch0000005?line=19'>20</a>\u001b[0m                 tweet\u001b[39m.\u001b[39mretweet_count, tweet\u001b[39m.\u001b[39muser\u001b[39m.\u001b[39mid,\n\u001b[1;32m     <a href='vscode-notebook-cell:/Volumes/Elements/GitHub/twitter-project/twitter-project/Functional_daily_scrape.ipynb#ch0000005?line=20'>21</a>\u001b[0m                 tweet\u001b[39m.\u001b[39muser\u001b[39m.\u001b[39mfavourites_count, tweet\u001b[39m.\u001b[39muser\u001b[39m.\u001b[39mfollowers_count, tweet\u001b[39m.\u001b[39mlang ))\n",
      "File \u001b[0;32m/Volumes/Elements/GitHub/twitter-project/twitter-project/TFlow/lib/python3.9/site-packages/tweepy/api.py:33\u001b[0m, in \u001b[0;36mpagination.<locals>.decorator.<locals>.wrapper\u001b[0;34m(*args, **kwargs)\u001b[0m\n\u001b[1;32m     <a href='file:///Volumes/Elements/GitHub/twitter-project/twitter-project/TFlow/lib/python3.9/site-packages/tweepy/api.py?line=30'>31</a>\u001b[0m \u001b[39m@functools\u001b[39m\u001b[39m.\u001b[39mwraps(method)\n\u001b[1;32m     <a href='file:///Volumes/Elements/GitHub/twitter-project/twitter-project/TFlow/lib/python3.9/site-packages/tweepy/api.py?line=31'>32</a>\u001b[0m \u001b[39mdef\u001b[39;00m \u001b[39mwrapper\u001b[39m(\u001b[39m*\u001b[39margs, \u001b[39m*\u001b[39m\u001b[39m*\u001b[39mkwargs):\n\u001b[0;32m---> <a href='file:///Volumes/Elements/GitHub/twitter-project/twitter-project/TFlow/lib/python3.9/site-packages/tweepy/api.py?line=32'>33</a>\u001b[0m     \u001b[39mreturn\u001b[39;00m method(\u001b[39m*\u001b[39;49margs, \u001b[39m*\u001b[39;49m\u001b[39m*\u001b[39;49mkwargs)\n",
      "File \u001b[0;32m/Volumes/Elements/GitHub/twitter-project/twitter-project/TFlow/lib/python3.9/site-packages/tweepy/api.py:46\u001b[0m, in \u001b[0;36mpayload.<locals>.decorator.<locals>.wrapper\u001b[0;34m(*args, **kwargs)\u001b[0m\n\u001b[1;32m     <a href='file:///Volumes/Elements/GitHub/twitter-project/twitter-project/TFlow/lib/python3.9/site-packages/tweepy/api.py?line=43'>44</a>\u001b[0m kwargs[\u001b[39m'\u001b[39m\u001b[39mpayload_list\u001b[39m\u001b[39m'\u001b[39m] \u001b[39m=\u001b[39m payload_list\n\u001b[1;32m     <a href='file:///Volumes/Elements/GitHub/twitter-project/twitter-project/TFlow/lib/python3.9/site-packages/tweepy/api.py?line=44'>45</a>\u001b[0m kwargs[\u001b[39m'\u001b[39m\u001b[39mpayload_type\u001b[39m\u001b[39m'\u001b[39m] \u001b[39m=\u001b[39m payload_type\n\u001b[0;32m---> <a href='file:///Volumes/Elements/GitHub/twitter-project/twitter-project/TFlow/lib/python3.9/site-packages/tweepy/api.py?line=45'>46</a>\u001b[0m \u001b[39mreturn\u001b[39;00m method(\u001b[39m*\u001b[39;49margs, \u001b[39m*\u001b[39;49m\u001b[39m*\u001b[39;49mkwargs)\n",
      "File \u001b[0;32m/Volumes/Elements/GitHub/twitter-project/twitter-project/TFlow/lib/python3.9/site-packages/tweepy/api.py:363\u001b[0m, in \u001b[0;36mAPI.search_30_day\u001b[0;34m(self, label, query, **kwargs)\u001b[0m\n\u001b[1;32m    <a href='file:///Volumes/Elements/GitHub/twitter-project/twitter-project/TFlow/lib/python3.9/site-packages/tweepy/api.py?line=285'>286</a>\u001b[0m \u001b[39m@pagination\u001b[39m(mode\u001b[39m=\u001b[39m\u001b[39m'\u001b[39m\u001b[39mnext\u001b[39m\u001b[39m'\u001b[39m)\n\u001b[1;32m    <a href='file:///Volumes/Elements/GitHub/twitter-project/twitter-project/TFlow/lib/python3.9/site-packages/tweepy/api.py?line=286'>287</a>\u001b[0m \u001b[39m@payload\u001b[39m(\u001b[39m'\u001b[39m\u001b[39mstatus\u001b[39m\u001b[39m'\u001b[39m, \u001b[39mlist\u001b[39m\u001b[39m=\u001b[39m\u001b[39mTrue\u001b[39;00m)\n\u001b[1;32m    <a href='file:///Volumes/Elements/GitHub/twitter-project/twitter-project/TFlow/lib/python3.9/site-packages/tweepy/api.py?line=287'>288</a>\u001b[0m \u001b[39mdef\u001b[39;00m \u001b[39msearch_30_day\u001b[39m(\u001b[39mself\u001b[39m, label, query, \u001b[39m*\u001b[39m\u001b[39m*\u001b[39mkwargs):\n\u001b[1;32m    <a href='file:///Volumes/Elements/GitHub/twitter-project/twitter-project/TFlow/lib/python3.9/site-packages/tweepy/api.py?line=288'>289</a>\u001b[0m     \u001b[39m\"\"\"search_30_day(label, query, *, tag, fromDate, toDate, maxResults, \\\u001b[39;00m\n\u001b[1;32m    <a href='file:///Volumes/Elements/GitHub/twitter-project/twitter-project/TFlow/lib/python3.9/site-packages/tweepy/api.py?line=289'>290</a>\u001b[0m \u001b[39m                     next)\u001b[39;00m\n\u001b[1;32m    <a href='file:///Volumes/Elements/GitHub/twitter-project/twitter-project/TFlow/lib/python3.9/site-packages/tweepy/api.py?line=290'>291</a>\u001b[0m \n\u001b[0;32m   (...)\u001b[0m\n\u001b[1;32m    <a href='file:///Volumes/Elements/GitHub/twitter-project/twitter-project/TFlow/lib/python3.9/site-packages/tweepy/api.py?line=360'>361</a>\u001b[0m \u001b[39m    https://developer.twitter.com/en/docs/twitter-api/premium/search-api/api-reference/premium-search\u001b[39;00m\n\u001b[1;32m    <a href='file:///Volumes/Elements/GitHub/twitter-project/twitter-project/TFlow/lib/python3.9/site-packages/tweepy/api.py?line=361'>362</a>\u001b[0m \u001b[39m    \"\"\"\u001b[39;00m\n\u001b[0;32m--> <a href='file:///Volumes/Elements/GitHub/twitter-project/twitter-project/TFlow/lib/python3.9/site-packages/tweepy/api.py?line=362'>363</a>\u001b[0m     \u001b[39mreturn\u001b[39;00m \u001b[39mself\u001b[39;49m\u001b[39m.\u001b[39;49mrequest(\n\u001b[1;32m    <a href='file:///Volumes/Elements/GitHub/twitter-project/twitter-project/TFlow/lib/python3.9/site-packages/tweepy/api.py?line=363'>364</a>\u001b[0m         \u001b[39m'\u001b[39;49m\u001b[39mGET\u001b[39;49m\u001b[39m'\u001b[39;49m, \u001b[39mf\u001b[39;49m\u001b[39m'\u001b[39;49m\u001b[39mtweets/search/30day/\u001b[39;49m\u001b[39m{\u001b[39;49;00mlabel\u001b[39m}\u001b[39;49;00m\u001b[39m'\u001b[39;49m, endpoint_parameters\u001b[39m=\u001b[39;49m(\n\u001b[1;32m    <a href='file:///Volumes/Elements/GitHub/twitter-project/twitter-project/TFlow/lib/python3.9/site-packages/tweepy/api.py?line=364'>365</a>\u001b[0m             \u001b[39m'\u001b[39;49m\u001b[39mquery\u001b[39;49m\u001b[39m'\u001b[39;49m, \u001b[39m'\u001b[39;49m\u001b[39mtag\u001b[39;49m\u001b[39m'\u001b[39;49m, \u001b[39m'\u001b[39;49m\u001b[39mfromDate\u001b[39;49m\u001b[39m'\u001b[39;49m, \u001b[39m'\u001b[39;49m\u001b[39mtoDate\u001b[39;49m\u001b[39m'\u001b[39;49m, \u001b[39m'\u001b[39;49m\u001b[39mmaxResults\u001b[39;49m\u001b[39m'\u001b[39;49m, \u001b[39m'\u001b[39;49m\u001b[39mnext\u001b[39;49m\u001b[39m'\u001b[39;49m\n\u001b[1;32m    <a href='file:///Volumes/Elements/GitHub/twitter-project/twitter-project/TFlow/lib/python3.9/site-packages/tweepy/api.py?line=365'>366</a>\u001b[0m         ), query\u001b[39m=\u001b[39;49mquery, \u001b[39m*\u001b[39;49m\u001b[39m*\u001b[39;49mkwargs\n\u001b[1;32m    <a href='file:///Volumes/Elements/GitHub/twitter-project/twitter-project/TFlow/lib/python3.9/site-packages/tweepy/api.py?line=366'>367</a>\u001b[0m     )\n",
      "File \u001b[0;32m/Volumes/Elements/GitHub/twitter-project/twitter-project/TFlow/lib/python3.9/site-packages/tweepy/api.py:263\u001b[0m, in \u001b[0;36mAPI.request\u001b[0;34m(self, method, endpoint, endpoint_parameters, params, headers, json_payload, parser, payload_list, payload_type, post_data, files, require_auth, return_cursors, upload_api, use_cache, **kwargs)\u001b[0m\n\u001b[1;32m    <a href='file:///Volumes/Elements/GitHub/twitter-project/twitter-project/TFlow/lib/python3.9/site-packages/tweepy/api.py?line=260'>261</a>\u001b[0m     \u001b[39mraise\u001b[39;00m NotFound(resp)\n\u001b[1;32m    <a href='file:///Volumes/Elements/GitHub/twitter-project/twitter-project/TFlow/lib/python3.9/site-packages/tweepy/api.py?line=261'>262</a>\u001b[0m \u001b[39mif\u001b[39;00m resp\u001b[39m.\u001b[39mstatus_code \u001b[39m==\u001b[39m \u001b[39m429\u001b[39m:\n\u001b[0;32m--> <a href='file:///Volumes/Elements/GitHub/twitter-project/twitter-project/TFlow/lib/python3.9/site-packages/tweepy/api.py?line=262'>263</a>\u001b[0m     \u001b[39mraise\u001b[39;00m TooManyRequests(resp)\n\u001b[1;32m    <a href='file:///Volumes/Elements/GitHub/twitter-project/twitter-project/TFlow/lib/python3.9/site-packages/tweepy/api.py?line=263'>264</a>\u001b[0m \u001b[39mif\u001b[39;00m resp\u001b[39m.\u001b[39mstatus_code \u001b[39m>\u001b[39m\u001b[39m=\u001b[39m \u001b[39m500\u001b[39m:\n\u001b[1;32m    <a href='file:///Volumes/Elements/GitHub/twitter-project/twitter-project/TFlow/lib/python3.9/site-packages/tweepy/api.py?line=264'>265</a>\u001b[0m     \u001b[39mraise\u001b[39;00m TwitterServerError(resp)\n",
      "\u001b[0;31mTooManyRequests\u001b[0m: 429 Too Many Requests\nRequest exceeds account’s current package request limits. Please upgrade your package and retry or contact Twitter about enterprise access."
     ]
    }
   ],
   "source": [
    "### define function\n",
    "\n",
    "def get_the_tweets(filez, firstkeyword, secondkeyword, days_back):\n",
    "    filez = []\n",
    "\n",
    "    for i in range(days_back):\n",
    "        dazeback = datetime.datetime.now() - datetime.timedelta(days = i+1)\n",
    "        dazeback = dazeback.strftime(\"%Y%m%d%H%M\")\n",
    "        dazeback_plus_one = datetime.datetime.now() - datetime.timedelta(days = i)\n",
    "        dazeback_plus_one = dazeback_plus_one.strftime(\"%Y%m%d%H%M\")\n",
    "        tweets = api.search_30_day(label = 'ThirtyDaze', query = firstkeyword, fromDate = dazeback, toDate = dazeback_plus_one, maxResults = 100)\n",
    "        for tweet in tweets:\n",
    "                filez.append((tweet.created_at, tweet.text, \n",
    "                        tweet.retweet_count, tweet.user.id,\n",
    "                        tweet.user.favourites_count, tweet.user.followers_count, tweet.lang ))\n",
    "        time.sleep(0.5)\n",
    "        tweets = api.search_30_day(label = 'ThirtyDaze', query = secondkeyword, fromDate = dazeback, toDate = dazeback_plus_one, maxResults = 100)\n",
    "        for tweet in tweets:\n",
    "                filez.append((tweet.created_at, tweet.text, \n",
    "                        tweet.retweet_count, tweet.user.id,\n",
    "                        tweet.user.favourites_count, tweet.user.followers_count, tweet.lang ))\n",
    "        time.sleep(0.5)\n",
    "    return filez\n",
    "\n",
    "try_hard = get_the_tweets( 'babba.csv', 'AMZN','Amazon', 20)\n",
    "    \n",
    "Amazon_df = pd.DataFrame(try_hard, columns = ['created_at','full_text', 'retweet_count', 'user_id', 'user.favourites_count', 'user.followers_count','language'])\n",
    "Amazon_df = Amazon_df[Amazon_df['language'] == \"en\"]\n",
    "Amazon_df.reset_index(drop = False, inplace = True)\n",
    "\n",
    "print(Amazon_df.shape)"
   ]
  },
  {
   "cell_type": "code",
   "execution_count": null,
   "id": "91f8870b-7736-4225-814f-da29712f442c",
   "metadata": {},
   "outputs": [],
   "source": [
    "Amazon_df.head()"
   ]
  },
  {
   "cell_type": "code",
   "execution_count": null,
   "id": "d4a9f40e-4bd4-4a6f-b955-ac5df2f146a5",
   "metadata": {},
   "outputs": [],
   "source": [
    "Amazon_df.shape"
   ]
  },
  {
   "cell_type": "code",
   "execution_count": null,
   "id": "4dca4e9e-219c-40eb-ac6f-3b4fea7e67d1",
   "metadata": {},
   "outputs": [],
   "source": [
    "Amazon_df.loc[0,'language']\n"
   ]
  },
  {
   "cell_type": "code",
   "execution_count": null,
   "id": "9e2a78b7-5dd3-4c5d-984f-311fdc43b790",
   "metadata": {},
   "outputs": [],
   "source": [
    "trappy = Amazon_df[Amazon_df['language'] == \"en\"]"
   ]
  },
  {
   "cell_type": "code",
   "execution_count": null,
   "id": "9edb3729-0856-4662-b0be-a346d769d169",
   "metadata": {},
   "outputs": [],
   "source": [
    "trappy.shape"
   ]
  },
  {
   "cell_type": "code",
   "execution_count": null,
   "id": "6fd1986f-9d94-42b9-81de-46f3d64e48f5",
   "metadata": {},
   "outputs": [],
   "source": []
  }
 ],
 "metadata": {
  "kernelspec": {
   "display_name": "Python 3 (ipykernel)",
   "language": "python",
   "name": "python3"
  },
  "language_info": {
   "codemirror_mode": {
    "name": "ipython",
    "version": 3
   },
   "file_extension": ".py",
   "mimetype": "text/x-python",
   "name": "python",
   "nbconvert_exporter": "python",
   "pygments_lexer": "ipython3",
   "version": "3.9.0"
  }
 },
 "nbformat": 4,
 "nbformat_minor": 5
}
